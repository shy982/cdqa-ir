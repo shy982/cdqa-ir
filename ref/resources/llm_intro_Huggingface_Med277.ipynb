{
 "cells": [
  {
   "cell_type": "markdown",
   "id": "7d4b9b80-0677-4065-a207-59b5b63982d7",
   "metadata": {},
   "source": [
    "## Intro to Huggingface Transformers"
   ]
  },
  {
   "cell_type": "code",
   "execution_count": 2,
   "id": "8fcd9b9a-1aa8-455b-8065-110f4c41db6a",
   "metadata": {},
   "outputs": [
    {
     "name": "stderr",
     "output_type": "stream",
     "text": [
      "/Users/snemati/miniconda3/lib/python3.11/site-packages/tqdm/auto.py:21: TqdmWarning: IProgress not found. Please update jupyter and ipywidgets. See https://ipywidgets.readthedocs.io/en/stable/user_install.html\n",
      "  from .autonotebook import tqdm as notebook_tqdm\n",
      "2023-10-06 22:56:24.554789: I tensorflow/core/platform/cpu_feature_guard.cc:182] This TensorFlow binary is optimized to use available CPU instructions in performance-critical operations.\n",
      "To enable the following instructions: AVX2 AVX512F AVX512_VNNI FMA, in other operations, rebuild TensorFlow with the appropriate compiler flags.\n",
      "No model was supplied, defaulted to distilbert-base-uncased-finetuned-sst-2-english and revision af0f99b (https://huggingface.co/distilbert-base-uncased-finetuned-sst-2-english).\n",
      "Using a pipeline without specifying a model name and revision in production is not recommended.\n"
     ]
    }
   ],
   "source": [
    "# https://huggingface.co/docs/transformers/installation --> conda install -c huggingface transformers\n",
    "# More about available pipelines here (e.g., feature-extraction, ner (named entity recognition), question-answering, translation, zero-shot-classification): \n",
    "# https://huggingface.co/docs/transformers/main_classes/pipelines\n",
    "import transformers\n",
    "from transformers import pipeline\n",
    "classifier = pipeline(\"sentiment-analysis\")"
   ]
  },
  {
   "cell_type": "markdown",
   "id": "3025f7ce-2725-42e8-86e4-d394061eb199",
   "metadata": {},
   "source": [
    "### Sentiment Analysis"
   ]
  },
  {
   "cell_type": "code",
   "execution_count": 21,
   "id": "8d933a26-c4ae-4ee2-adb2-6c33f5078eeb",
   "metadata": {},
   "outputs": [
    {
     "data": {
      "text/plain": [
       "[{'label': 'POSITIVE', 'score': 0.9968151450157166}]"
      ]
     },
     "execution_count": 21,
     "metadata": {},
     "output_type": "execute_result"
    }
   ],
   "source": [
    "classifier(\"I have been so excited for this Clinical NLP Course.\")"
   ]
  },
  {
   "cell_type": "code",
   "execution_count": 24,
   "id": "a2e8eb76-aadf-4bd9-83c6-187924e6046a",
   "metadata": {},
   "outputs": [
    {
     "data": {
      "text/plain": [
       "[{'label': 'NEGATIVE', 'score': 0.9996137022972107}]"
      ]
     },
     "execution_count": 24,
     "metadata": {},
     "output_type": "execute_result"
    }
   ],
   "source": [
    "classifier(\"I have been so excited for this Clinical NLP Course, but the teacher turned out to be boring.\")"
   ]
  },
  {
   "cell_type": "markdown",
   "id": "8b9de520-9574-45f5-beff-d820663ca4a1",
   "metadata": {},
   "source": [
    "### Zero-shot classification"
   ]
  },
  {
   "cell_type": "code",
   "execution_count": 3,
   "id": "4c413e17-9c90-4bce-bc08-0acae7d654c1",
   "metadata": {},
   "outputs": [
    {
     "name": "stderr",
     "output_type": "stream",
     "text": [
      "No model was supplied, defaulted to facebook/bart-large-mnli and revision c626438 (https://huggingface.co/facebook/bart-large-mnli).\n",
      "Using a pipeline without specifying a model name and revision in production is not recommended.\n"
     ]
    },
    {
     "data": {
      "text/plain": [
       "{'sequence': 'I have been so excited for this Clinical NLP Course, but the teacher turned out to be so boring.',\n",
       " 'labels': ['education', 'business', 'politics'],\n",
       " 'scores': [0.7822906374931335, 0.18534605205059052, 0.032363295555114746]}"
      ]
     },
     "execution_count": 3,
     "metadata": {},
     "output_type": "execute_result"
    }
   ],
   "source": [
    "classifier = pipeline(\"zero-shot-classification\")\n",
    "classifier(\n",
    "    \"I have been so excited for this Clinical NLP Course, but the teacher turned out to be so boring.\",\n",
    "    candidate_labels=[\"education\", \"politics\", \"business\"],\n",
    ")"
   ]
  },
  {
   "cell_type": "code",
   "execution_count": 4,
   "id": "8360f24a-6ca9-446d-b84a-ff751b49cb88",
   "metadata": {},
   "outputs": [
    {
     "name": "stderr",
     "output_type": "stream",
     "text": [
      "No model was supplied, defaulted to gpt2 and revision 6c0e608 (https://huggingface.co/gpt2).\n",
      "Using a pipeline without specifying a model name and revision in production is not recommended.\n",
      "Setting `pad_token_id` to `eos_token_id`:50256 for open-end generation.\n"
     ]
    },
    {
     "data": {
      "text/plain": [
       "[{'generated_text': 'In MED277 NLP Course we will teach you how to develop new language skills during your CSL training.\\n\\nHere are some of the key things you need to know:\\n\\nLearn to recognize and remember correct words\\n\\nDo not try'}]"
      ]
     },
     "execution_count": 4,
     "metadata": {},
     "output_type": "execute_result"
    }
   ],
   "source": [
    "generator = pipeline(\"text-generation\")\n",
    "generator(\"In MED277 NLP Course we will teach you how to\")"
   ]
  },
  {
   "cell_type": "code",
   "execution_count": 5,
   "id": "5fe41da2-5a5c-4c95-8f27-6f2aebac2497",
   "metadata": {},
   "outputs": [
    {
     "name": "stderr",
     "output_type": "stream",
     "text": [
      "Setting `pad_token_id` to `eos_token_id`:50256 for open-end generation.\n"
     ]
    },
    {
     "data": {
      "text/plain": [
       "[{'generated_text': 'In MED277 NLP Course we will teach you how to make a real life experience with Med277 or see your own ideas and opinions on the topic.'}]"
      ]
     },
     "execution_count": 5,
     "metadata": {},
     "output_type": "execute_result"
    }
   ],
   "source": [
    "# you can pick form a number of models here: https://huggingface.co/models?pipeline_tag=text-generation\n",
    "generator = pipeline(\"text-generation\", model=\"distilgpt2\") \n",
    "generator(\n",
    "    \"In MED277 NLP Course we will teach you how to\",\n",
    "    max_length=100,\n",
    "    num_return_sequences=1,\n",
    ")"
   ]
  },
  {
   "cell_type": "markdown",
   "id": "e3d601b2-5b9a-4d4d-9431-279051f972eb",
   "metadata": {},
   "source": [
    "### Let's try Named entity recognition"
   ]
  },
  {
   "cell_type": "code",
   "execution_count": 7,
   "id": "ca553c6b-6b35-4083-8545-b7f7710edf30",
   "metadata": {},
   "outputs": [
    {
     "data": {
      "text/plain": [
       "[{'entity_group': 'Age',\n",
       "  'score': 0.99761283,\n",
       "  'word': '28 - year - old',\n",
       "  'start': 2,\n",
       "  'end': 13},\n",
       " {'entity_group': 'History',\n",
       "  'score': 0.9990705,\n",
       "  'word': 'previously healthy',\n",
       "  'start': 14,\n",
       "  'end': 32},\n",
       " {'entity_group': 'Sex',\n",
       "  'score': 0.99968266,\n",
       "  'word': 'man',\n",
       "  'start': 33,\n",
       "  'end': 36},\n",
       " {'entity_group': 'Clinical_event',\n",
       "  'score': 0.9992685,\n",
       "  'word': 'presented',\n",
       "  'start': 37,\n",
       "  'end': 46},\n",
       " {'entity_group': 'Sign_symptom',\n",
       "  'score': 0.9997489,\n",
       "  'word': 'ta',\n",
       "  'start': 52,\n",
       "  'end': 54},\n",
       " {'entity_group': 'Sign_symptom',\n",
       "  'score': 0.99960655,\n",
       "  'word': '##chy',\n",
       "  'start': 54,\n",
       "  'end': 57},\n",
       " {'entity_group': 'Sign_symptom',\n",
       "  'score': 0.9215581,\n",
       "  'word': 'cut',\n",
       "  'start': 123,\n",
       "  'end': 126},\n",
       " {'entity_group': 'Biological_structure',\n",
       "  'score': 0.9997769,\n",
       "  'word': 'leg',\n",
       "  'start': 134,\n",
       "  'end': 137}]"
      ]
     },
     "execution_count": 7,
     "metadata": {},
     "output_type": "execute_result"
    }
   ],
   "source": [
    "from transformers import AutoTokenizer, AutoModelForTokenClassification\n",
    "\n",
    "tokenizer = AutoTokenizer.from_pretrained(\"d4data/biomedical-ner-all\")\n",
    "model = AutoModelForTokenClassification.from_pretrained(\"d4data/biomedical-ner-all\")\n",
    "\n",
    "pipe = pipeline(\"ner\", model=model, tokenizer=tokenizer, aggregation_strategy=\"simple\") # pass device=0 if using gpu\n",
    "clinical_note = \"A 28-year-old previously healthy man presented with tachycardia, fever, and mental confusion. The symptoms started after a cut to his leg while gardening.\"\n",
    "\n",
    "pipe(clinical_note)"
   ]
  },
  {
   "cell_type": "markdown",
   "id": "fd995ff4-dac5-479b-9236-7e9e774cc81d",
   "metadata": {},
   "source": [
    "### Question answering"
   ]
  },
  {
   "cell_type": "code",
   "execution_count": 8,
   "id": "86512a55-ffbe-4961-b3ef-1f019aece0af",
   "metadata": {},
   "outputs": [
    {
     "name": "stderr",
     "output_type": "stream",
     "text": [
      "No model was supplied, defaulted to distilbert-base-cased-distilled-squad and revision 626af31 (https://huggingface.co/distilbert-base-cased-distilled-squad).\n",
      "Using a pipeline without specifying a model name and revision in production is not recommended.\n"
     ]
    },
    {
     "data": {
      "text/plain": [
       "[{'score': 0.7490040063858032,\n",
       "  'start': 138,\n",
       "  'end': 153,\n",
       "  'answer': 'while gardening'},\n",
       " {'score': 0.3615308701992035, 'start': 134, 'end': 137, 'answer': 'leg'}]"
      ]
     },
     "execution_count": 8,
     "metadata": {},
     "output_type": "execute_result"
    }
   ],
   "source": [
    "question_answerer = pipeline(\"question-answering\")\n",
    "question_answerer(\n",
    "    question=[\"When did this patient get his cut?\",\"What is the location of the cut?\"],\n",
    "    context=clinical_note,\n",
    ")"
   ]
  },
  {
   "cell_type": "code",
   "execution_count": null,
   "id": "17a20cc2-2d53-4de2-8973-31230521d846",
   "metadata": {},
   "outputs": [],
   "source": [
    "### for additional tutorials and concepts see: https://huggingface.co/learn/nlp-course/chapter1/1?fw=pt"
   ]
  }
 ],
 "metadata": {
  "kernelspec": {
   "display_name": "Python 3 (ipykernel)",
   "language": "python",
   "name": "python3"
  },
  "language_info": {
   "codemirror_mode": {
    "name": "ipython",
    "version": 3
   },
   "file_extension": ".py",
   "mimetype": "text/x-python",
   "name": "python",
   "nbconvert_exporter": "python",
   "pygments_lexer": "ipython3",
   "version": "3.9.13"
  }
 },
 "nbformat": 4,
 "nbformat_minor": 5
}
