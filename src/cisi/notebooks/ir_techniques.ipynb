{
 "cells": [
  {
   "cell_type": "code",
   "execution_count": 1,
   "id": "8a871a81-9b10-413e-a5e6-9edaa49f2db5",
   "metadata": {},
   "outputs": [],
   "source": [
    "# Imports\n",
    "from dotenv import load_dotenv\n",
    "from langchain.embeddings.openai import OpenAIEmbeddings\n",
    "from langchain.vectorstores import Annoy, FAISS\n",
    "from langchain.vectorstores.utils import DistanceStrategy\n",
    "from tqdm import tqdm\n",
    "\n",
    "import numpy as np\n",
    "import os\n",
    "import pickle\n",
    "import time"
   ]
  },
  {
   "cell_type": "markdown",
   "id": "0e84c7ac-9f48-4579-b09e-7470232be442",
   "metadata": {},
   "source": [
    "### Exact Search (LSI)"
   ]
  },
  {
   "cell_type": "code",
   "execution_count": 3,
   "id": "10c993e3-6c24-4573-ba55-09aafdde230b",
   "metadata": {},
   "outputs": [],
   "source": [
    "# Load documents' LSI embeddings\n",
    "with open(\"../embeddings/lsi/documents.pkl\", \"rb\") as f:\n",
    "    documents_lsi = pickle.load(f)"
   ]
  },
  {
   "cell_type": "code",
   "execution_count": 4,
   "id": "21ac9292-6b69-459a-bec8-8b0f18a3e1c7",
   "metadata": {},
   "outputs": [],
   "source": [
    "# Load queries' LSI embeddings\n",
    "with open(\"../embeddings/lsi/queries.pkl\", \"rb\") as f:\n",
    "    queries_lsi = pickle.load(f)"
   ]
  },
  {
   "cell_type": "code",
   "execution_count": 2,
   "id": "d4ff43b6-268c-44bc-b0ff-f1d0074dbe69",
   "metadata": {},
   "outputs": [],
   "source": [
    "# Find cosine similarity between two vectors a and b\n",
    "def cosine_similarity(a, b):\n",
    "    return np.dot(a, b) / (np.linalg.norm(a) * np.linalg.norm(b))"
   ]
  },
  {
   "cell_type": "code",
   "execution_count": 5,
   "id": "27c57b5a-88fa-4e73-94d6-e000fcad0856",
   "metadata": {},
   "outputs": [
    {
     "name": "stderr",
     "output_type": "stream",
     "text": [
      "Computing similarity scores: 100%|████████████████████████| 112/112 [00:00<00:00, 198.37it/s]\n"
     ]
    }
   ],
   "source": [
    "# Calculate cosine similarity for each query-document pair\n",
    "similarity_scores = {}\n",
    "for query_id, query in tqdm(queries_lsi.items(), desc=\"Computing similarity scores\"):\n",
    "    scores = []\n",
    "    for doc_id, doc in documents_lsi.items():\n",
    "        sim_score = cosine_similarity(query[\"embedding\"], doc[\"embedding\"])\n",
    "        scores.append((doc_id, sim_score))\n",
    "    similarity_scores[query_id] = sorted(scores, key=lambda x: x[1], reverse=True)"
   ]
  },
  {
   "cell_type": "code",
   "execution_count": 6,
   "id": "66d8cbc7-9ed9-4649-b81e-0f77a3e8259f",
   "metadata": {},
   "outputs": [],
   "source": [
    "# Example usage\n",
    "# print(similarity_scores['some_query_id'])  # Replace 'some_query_id' with an actual query id"
   ]
  },
  {
   "cell_type": "code",
   "execution_count": 7,
   "id": "4c5b0d6b-f0c4-4ebc-ab45-62424113c080",
   "metadata": {},
   "outputs": [],
   "source": [
    "predictions = {}\n",
    "for query_id, scores in similarity_scores.items():\n",
    "    # Flatten the scores to get only document IDs\n",
    "    scores_flattened = [doc_id for doc_id, _ in scores]\n",
    "    predictions[query_id] = scores_flattened"
   ]
  },
  {
   "cell_type": "code",
   "execution_count": 8,
   "id": "bc14758b-a056-4745-918e-257a51e46be3",
   "metadata": {},
   "outputs": [],
   "source": [
    "# Example usage\n",
    "# print(predictions['some_query_id'])  # Replace 'some_query_id' with an actual query id"
   ]
  },
  {
   "cell_type": "code",
   "execution_count": 9,
   "id": "da0a01c3-b0a9-464b-8b13-cfdb0ec95be1",
   "metadata": {},
   "outputs": [],
   "source": [
    "# Save query and its most relevant documents\n",
    "with open(\"../ir_techniques/exact_search/index.pkl\", \"wb\") as f:\n",
    "    pickle.dump(predictions, f)"
   ]
  },
  {
   "cell_type": "markdown",
   "id": "427a2e4e-0398-45df-9638-0c0efbebd4d4",
   "metadata": {},
   "source": [
    "### VectorDBs"
   ]
  },
  {
   "cell_type": "code",
   "execution_count": 10,
   "id": "d75e9097-30bc-49e3-95d6-e0b9de61112e",
   "metadata": {},
   "outputs": [],
   "source": [
    "# Load OpenAI's API key\n",
    "load_dotenv()\n",
    "OPENAI_API_KEY = os.getenv(\"OPENAI_API_KEY\")"
   ]
  },
  {
   "cell_type": "code",
   "execution_count": 11,
   "id": "d58884db-a0de-45fc-99b3-169361b4f0cb",
   "metadata": {},
   "outputs": [],
   "source": [
    "# Load document' ADA embeddings\n",
    "with open(\"../embeddings/text-embedding-ada-002-v2/documents.pkl\", \"rb\") as f:\n",
    "    documents_ada = pickle.load(f)"
   ]
  },
  {
   "cell_type": "code",
   "execution_count": 12,
   "id": "551a2db6-016b-491c-a568-b1cca46562fe",
   "metadata": {},
   "outputs": [],
   "source": [
    "# Create a list of tuple of the form: (document, embedding)\n",
    "# This is the format accepted by vector stores defined in langchain\n",
    "data = []\n",
    "for i, doc in documents_ada.items():\n",
    "    data.append((i, doc[\"embedding\"]))"
   ]
  },
  {
   "cell_type": "markdown",
   "id": "0dab071f-611c-464f-8c77-e17003a04c4a",
   "metadata": {},
   "source": [
    "#### ANNOY"
   ]
  },
  {
   "cell_type": "code",
   "execution_count": 13,
   "id": "66c8d575-0ec9-4f4c-b449-917e30f83abc",
   "metadata": {},
   "outputs": [
    {
     "name": "stdout",
     "output_type": "stream",
     "text": [
      "CPU times: user 1 µs, sys: 1e+03 ns, total: 2 µs\n",
      "Wall time: 1.91 µs\n"
     ]
    }
   ],
   "source": [
    "%time\n",
    "\n",
    "# Build ANNOY vector store\n",
    "annoy_vs = Annoy.from_embeddings(\n",
    "    text_embeddings=data, \n",
    "    embedding=OpenAIEmbeddings(), \n",
    "    metric=\"dot\")"
   ]
  },
  {
   "cell_type": "code",
   "execution_count": 14,
   "id": "6158b6d0-aa91-4919-94ad-2c4042446b58",
   "metadata": {},
   "outputs": [],
   "source": [
    "# Save ANNOY vector store\n",
    "annoy_vs.save_local(\"../ir_techniques/annoy/\")"
   ]
  },
  {
   "cell_type": "markdown",
   "id": "09172182-ff30-4bcc-bf35-82c5b6f871fb",
   "metadata": {},
   "source": [
    "#### FAISS"
   ]
  },
  {
   "cell_type": "code",
   "execution_count": 15,
   "id": "a83a0b31-b187-47eb-827f-c94eb56a1c86",
   "metadata": {},
   "outputs": [
    {
     "name": "stdout",
     "output_type": "stream",
     "text": [
      "CPU times: user 2 µs, sys: 0 ns, total: 2 µs\n",
      "Wall time: 2.15 µs\n"
     ]
    }
   ],
   "source": [
    "%time\n",
    "\n",
    "# Build FAISS vector store\n",
    "faiss_vs = FAISS.from_embeddings(\n",
    "    text_embeddings=data, \n",
    "    embedding=OpenAIEmbeddings(),\n",
    "    distance_strategy=DistanceStrategy.DOT_PRODUCT)"
   ]
  },
  {
   "cell_type": "code",
   "execution_count": 16,
   "id": "91481ff5-23e0-484f-9be5-ff1fe82ef766",
   "metadata": {},
   "outputs": [],
   "source": [
    "# Save FAISS vector store\n",
    "faiss_vs.save_local(\"../ir_techniques/faiss/\")"
   ]
  }
 ],
 "metadata": {
  "kernelspec": {
   "display_name": "Python 3 (ipykernel)",
   "language": "python",
   "name": "python3"
  },
  "language_info": {
   "codemirror_mode": {
    "name": "ipython",
    "version": 3
   },
   "file_extension": ".py",
   "mimetype": "text/x-python",
   "name": "python",
   "nbconvert_exporter": "python",
   "pygments_lexer": "ipython3",
   "version": "3.9.6"
  }
 },
 "nbformat": 4,
 "nbformat_minor": 5
}
