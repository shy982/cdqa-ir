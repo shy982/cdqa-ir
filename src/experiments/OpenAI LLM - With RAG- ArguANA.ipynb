{
 "cells": [
  {
   "cell_type": "code",
   "execution_count": 1,
   "id": "53d450d4-a778-4e79-aee4-d061c102d6bb",
   "metadata": {},
   "outputs": [],
   "source": [
    "import os\n",
    "import openai\n",
    "from langchain.llms import OpenAI\n",
    "from langchain.chat_models import ChatOpenAI\n",
    "from dotenv import load_dotenv\n",
    "from nltk.tokenize import word_tokenize\n",
    "from tqdm import tqdm\n",
    "import pickle\n",
    "from langchain.prompts import ChatPromptTemplate\n",
    "from langchain.schema.output_parser import StrOutputParser\n",
    "from nltk.translate.bleu_score import sentence_bleu, SmoothingFunction\n",
    "from rouge_score import rouge_scorer\n",
    "from operator import itemgetter\n",
    "from langchain.embeddings import OpenAIEmbeddings\n",
    "from langchain.schema.runnable import RunnablePassthrough\n",
    "from langchain.vectorstores import FAISS"
   ]
  },
  {
   "cell_type": "code",
   "execution_count": 2,
   "id": "4de2cd29-c1f6-4a98-b843-c2fc4961c6a8",
   "metadata": {},
   "outputs": [],
   "source": [
    "load_dotenv()\n",
    "\n",
    "# Uncomment to use the default DaVinci Model \n",
    "# llm = OpenAI(openai_api_key=os.getenv(\"OPENAI_API_KEY\"))\n",
    "# model = 'text-davinci-003'\n",
    "\n",
    "# Uncomment to use the gpt-3.5-turbo-instruct model \n",
    "llm = OpenAI(model_name='gpt-3.5-turbo-instruct', openai_api_key = os.getenv(\"OPENAI_API_KEY\"))\n",
    "model = 'gpt-3.5-turbo-instruct'"
   ]
  },
  {
   "cell_type": "code",
   "execution_count": 4,
   "id": "8944e68a-04f8-48f6-b74f-795a5aea06ac",
   "metadata": {},
   "outputs": [],
   "source": [
    "import ir_datasets\n",
    "\n",
    "\n",
    "dataset = ir_datasets.load(\"beir/arguana\")\n",
    "\n",
    "\n",
    "queries = {}\n",
    "for query in dataset.queries_iter():\n",
    "    queries[query.query_id] = {\"text\":query.text}\n",
    "\n",
    "docs = {}\n",
    "count = 0\n",
    "for doc in dataset.docs_iter():\n",
    "    docs[doc.doc_id] = {\"text\": doc.text}\n",
    "    count += 1\n",
    "    if count >= 2000:\n",
    "        break\n",
    "\n",
    "rel_set = {}\n",
    "for qrel in dataset.qrels_iter():\n",
    "    if qrel.query_id not in rel_set:\n",
    "        rel_set[qrel.query_id] = []\n",
    "    if qrel.relevance > 0: \n",
    "        rel_set[qrel.query_id].append(qrel.doc_id)\n"
   ]
  },
  {
   "cell_type": "code",
   "execution_count": 5,
   "id": "739ddf97-66dc-48dc-ab49-8b8851e9662b",
   "metadata": {},
   "outputs": [
    {
     "data": {
      "text/plain": [
       "({'text': \"Being vegetarian helps the environment  Becoming a vegetarian is an environmentally friendly thing to do. Modern farming is one of the main sources of pollution in our rivers. Beef farming is one of the main causes of deforestation, and as long as people continue to buy fast food in their billions, there will be a financial incentive to continue cutting down trees to make room for cattle. Because of our desire to eat fish, our rivers and seas are being emptied of fish and many species are facing extinction. Energy resources are used up much more greedily by meat farming than my farming cereals, pulses etc. Eating meat and fish not only causes cruelty to animals, it causes serious harm to the environment and to biodiversity. For example consider Meat production related pollution and deforestation  At Toronto’s 1992 Royal Agricultural Winter Fair, Agriculture Canada displayed two contrasting statistics: “it takes four football fields of land (about 1.6 hectares) to feed each Canadian” and “one apple tree produces enough fruit to make 320 pies.” Think about it — a couple of apple trees and a few rows of wheat on a mere fraction of a hectare could produce enough food for one person! [1]  The 2006 U.N. Food and Agriculture Organization (FAO) report concluded that worldwide livestock farming generates 18% of the planet's greenhouse gas emissions — by comparison, all the world's cars, trains, planes and boats account for a combined 13% of greenhouse gas emissions. [2]  As a result of the above point producing meat damages the environment. The demand for meat drives deforestation. Daniel Cesar Avelino of Brazil's Federal Public Prosecution Office says “We know that the single biggest driver of deforestation in the Amazon is cattle.” This clearing of tropical rainforests such as the Amazon for agriculture is estimated to produce 17% of the world's greenhouse gas emissions. [3] Not only this but the production of meat takes a lot more energy than it ultimately gives us chicken meat production consumes energy in a 4:1 ratio to protein output; beef cattle production requires an energy input to protein output ratio of 54:1.  The same is true with water use due to the same phenomenon of meat being inefficient to produce in terms of the amount of grain needed to produce the same weight of meat, production requires a lot of water. Water is another scarce resource that we will soon not have enough of in various areas of the globe. Grain-fed beef production takes 100,000 liters of water for every kilogram of food. Raising broiler chickens takes 3,500 liters of water to make a kilogram of meat. In comparison, soybean production uses 2,000 liters for kilogram of food produced; rice, 1,912; wheat, 900; and potatoes, 500 liters. [4] This is while there are areas of the globe that have severe water shortages. With farming using up to 70 times more water than is used for domestic purposes: cooking and washing. A third of the population of the world is already suffering from a shortage of water. [5] Groundwater levels are falling all over the world and rivers are beginning to dry up. Already some of the biggest rivers such as China’s Yellow river do not reach the sea. [6]  With a rising population becoming vegetarian is the only responsible way to eat.  [1] Stephen Leckie, ‘How Meat-centred Eating Patterns Affect Food Security and the Environment’, International development research center  [2] Bryan Walsh, Meat: Making Global Warming Worse, Time magazine, 10 September 2008 .  [3] David Adam, Supermarket suppliers ‘helping to destroy Amazon rainforest’, The Guardian, 21st June 2009.  [4] Roger Segelken, U.S. could feed 800 million people with grain that livestock eat, Cornell Science News, 7th August 1997.  [5] Fiona Harvey, Water scarcity affects one in three, FT.com, 21st August 2003  [6] Rupert Wingfield-Hayes, Yellow river ‘drying up’, BBC News, 29th July 2004\"},\n",
       " 1406)"
      ]
     },
     "execution_count": 5,
     "metadata": {},
     "output_type": "execute_result"
    }
   ],
   "source": [
    "queries['test-environment-aeghhgwpe-pro02a'], len(queries)"
   ]
  },
  {
   "cell_type": "code",
   "execution_count": 36,
   "id": "8c070a34-ae77-4aff-bc9a-015206f6bdbb",
   "metadata": {},
   "outputs": [],
   "source": [
    "#### API CALL WARNING ####\n",
    "\n",
    "client = openai.OpenAI(api_key = os.getenv(\"OPENAI_API_KEY\"))\n",
    "\n",
    "def get_embedding(text, model=\"text-embedding-ada-002\"):\n",
    "    text = text.replace(\"\\n\", \" \")\n",
    "    response = client.embeddings.create(input=[text], model=model)\n",
    "    if response and hasattr(response, 'data') and response.data:\n",
    "        embedding = response.data[0].embedding\n",
    "        return embedding\n",
    "    else:\n",
    "        print(\"Invalid response or no embedding data received.\")\n",
    "        return None"
   ]
  },
  {
   "cell_type": "code",
   "execution_count": 6,
   "id": "7ec0422a-80ad-4471-9e0f-eaec6a645a82",
   "metadata": {},
   "outputs": [
    {
     "data": {
      "text/plain": [
       "{'text': \"You don’t have to be vegetarian to be green. Many special environments have been created by livestock farming – for example chalk down land in England and mountain pastures in many countries. Ending livestock farming would see these areas go back to woodland with a loss of many unique plants and animals. Growing crops can also be very bad for the planet, with fertilisers and pesticides polluting rivers, lakes and seas. Most tropical forests are now cut down for timber, or to allow oil palm trees to be grown in plantations, not to create space for meat production.  British farmer and former editor Simon Farrell also states: “Many vegans and vegetarians rely on one source from the U.N. calculation that livestock generates 18% of global carbon emissions, but this figure contains basic mistakes. It attributes all deforestation from ranching to cattle, rather than logging or development. It also muddles up one-off emissions from deforestation with on-going pollution.”  He also refutes the statement of meat production inefficiency: “Scientists have calculated that globally the ratio between the amounts of useful plant food used to produce meat is about 5 to 1. If you feed animals only food that humans can eat — which is, indeed, largely the case in the Western world — that may be true. But animals also eat food we can't eat, such as grass. So the real conversion figure is 1.4 to 1.” [1] At the same time eating a vegetarian diet may be no more environmentally friendly than a meat based diet if it is not sustainably sourced or uses perishable fruit and vegetables that are flown in from around the world. Eating locally sourced food can has as big an impact as being vegetarian. [2]  [1] Tara Kelly, Simon Fairlie: How Eating Meat Can Save the World, 12 October 2010  [2] Lucy Siegle, ‘It is time to become a vegetarian?’ The Observer, 18th May 2008\"}"
      ]
     },
     "execution_count": 6,
     "metadata": {},
     "output_type": "execute_result"
    }
   ],
   "source": [
    "docs['test-environment-aeghhgwpe-pro02b']"
   ]
  },
  {
   "cell_type": "code",
   "execution_count": 39,
   "id": "87fd08b4-f91b-4f4f-824b-b81ff3c89aa0",
   "metadata": {},
   "outputs": [
    {
     "name": "stderr",
     "output_type": "stream",
     "text": [
      "Generating Embeddings: 100%|███████████████████████████████████████| 1406/1406 [05:20<00:00,  4.39it/s]\n"
     ]
    }
   ],
   "source": [
    "for idx, query in tqdm(queries.items(), desc = 'Generating Embeddings'):\n",
    "    query_text = query['text']\n",
    "    queries[idx] = {'text': query_text, 'embedding': get_embedding(query_text)}"
   ]
  },
  {
   "cell_type": "code",
   "execution_count": 41,
   "id": "244a3300-1f3b-44d8-8076-c917dcb434f0",
   "metadata": {},
   "outputs": [],
   "source": [
    "# queries['test-environment-aeghhgwpe-pro02a']"
   ]
  },
  {
   "cell_type": "code",
   "execution_count": 9,
   "id": "c592887b-344b-4b7b-a954-1f1d30ed528b",
   "metadata": {},
   "outputs": [
    {
     "name": "stderr",
     "output_type": "stream",
     "text": [
      "Generating Embeddings: 100%|███████████████████████████████████████| 2000/2000 [06:24<00:00,  5.20it/s]\n"
     ]
    }
   ],
   "source": [
    "#### API CALL WARNING ####\n",
    "\n",
    "\n",
    "# Generate embeddings for docs\n",
    "for doc_id in tqdm(docs, desc = 'Generating Embeddings'):\n",
    "    combined_text =  docs[doc_id]['text']\n",
    "    docs[doc_id]['embedding'] = get_embedding(combined_text)"
   ]
  },
  {
   "cell_type": "code",
   "execution_count": 42,
   "id": "edd9b412-1ea2-447c-a230-e6bb768ac6d6",
   "metadata": {},
   "outputs": [
    {
     "name": "stdout",
     "output_type": "stream",
     "text": [
      "Embeddings saved to ./backups/openai_embeddings/query_embeddings_d1.pkl\n"
     ]
    }
   ],
   "source": [
    "docs_file_path = './backups/openai_embeddings/doc_embeddings_d1.pkl'\n",
    "query_file_path = './backups/openai_embeddings/query_embeddings_d1.pkl'\n",
    "\n",
    "with open(docs_file_path, 'wb') as file:\n",
    "    pickle.dump(docs, file)\n",
    "\n",
    "print(f\"Embeddings saved to {docs_file_path}\")\n",
    "\n",
    "with open(query_file_path, 'wb') as file:\n",
    "    pickle.dump(queries, file)\n",
    "\n",
    "print(f\"Embeddings saved to {query_file_path}\")"
   ]
  },
  {
   "cell_type": "code",
   "execution_count": 7,
   "id": "53d7d888-6520-4f05-a471-693db3de55ea",
   "metadata": {},
   "outputs": [
    {
     "name": "stdout",
     "output_type": "stream",
     "text": [
      "Document embeddings loaded successfully.\n"
     ]
    }
   ],
   "source": [
    "docs_file_path = './backups/openai_embeddings/doc_embeddings_d1.pkl'\n",
    "\n",
    "with open(docs_file_path, 'rb') as file:\n",
    "    docs = pickle.load(file)\n",
    "\n",
    "print(\"Document embeddings loaded successfully.\")"
   ]
  },
  {
   "cell_type": "code",
   "execution_count": 10,
   "id": "de11914b-163f-4e3d-8c29-2879fe3e84b9",
   "metadata": {},
   "outputs": [
    {
     "name": "stdout",
     "output_type": "stream",
     "text": [
      "Query embeddings loaded successfully.\n"
     ]
    }
   ],
   "source": [
    "# Load the query embeddings from the file\n",
    "query_file_path = './backups/openai_embeddings/query_embeddings_d1.pkl'\n",
    "with open(query_file_path, 'rb') as file:\n",
    "    loaded_queries = pickle.load(file)\n",
    "    \n",
    "queries = loaded_queries\n",
    "print(\"Query embeddings loaded successfully.\")"
   ]
  },
  {
   "cell_type": "code",
   "execution_count": 12,
   "id": "4385aa1d-01d9-4561-af61-87d8d223d3eb",
   "metadata": {},
   "outputs": [],
   "source": [
    "# queries['test-environment-aeghhgwpe-pro02a']"
   ]
  },
  {
   "cell_type": "code",
   "execution_count": 55,
   "id": "6126b150-171e-47fb-834f-2e2bcb8720bf",
   "metadata": {},
   "outputs": [
    {
     "data": {
      "text/plain": [
       "\"You don’t have to be vegetarian to be green. Many special environments have been created by livestock farming – for example chalk down land in England and mountain pastures in many countries. Ending livestock farming would see these areas go back to woodland with a loss of many unique plants and animals. Growing crops can also be very bad for the planet, with fertilisers and pesticides polluting rivers, lakes and seas. Most tropical forests are now cut down for timber, or to allow oil palm trees to be grown in plantations, not to create space for meat production.  British farmer and former editor Simon Farrell also states: “Many vegans and vegetarians rely on one source from the U.N. calculation that livestock generates 18% of global carbon emissions, but this figure contains basic mistakes. It attributes all deforestation from ranching to cattle, rather than logging or development. It also muddles up one-off emissions from deforestation with on-going pollution.”  He also refutes the statement of meat production inefficiency: “Scientists have calculated that globally the ratio between the amounts of useful plant food used to produce meat is about 5 to 1. If you feed animals only food that humans can eat — which is, indeed, largely the case in the Western world — that may be true. But animals also eat food we can't eat, such as grass. So the real conversion figure is 1.4 to 1.” [1] At the same time eating a vegetarian diet may be no more environmentally friendly than a meat based diet if it is not sustainably sourced or uses perishable fruit and vegetables that are flown in from around the world. Eating locally sourced food can has as big an impact as being vegetarian. [2]  [1] Tara Kelly, Simon Fairlie: How Eating Meat Can Save the World, 12 October 2010  [2] Lucy Siegle, ‘It is time to become a vegetarian?’ The Observer, 18th May 2008\""
      ]
     },
     "execution_count": 55,
     "metadata": {},
     "output_type": "execute_result"
    }
   ],
   "source": [
    "docs['test-environment-aeghhgwpe-pro02b']['text']"
   ]
  },
  {
   "cell_type": "code",
   "execution_count": 15,
   "id": "98c97963-defc-4216-a38a-40d50693f77f",
   "metadata": {},
   "outputs": [],
   "source": [
    "from langchain.vectorstores.utils import DistanceStrategy\n",
    "annoy_data = []\n",
    "for doc in docs:\n",
    "    annoy_data.append((doc, docs[doc][\"embedding\"]))\n",
    "\n",
    "faiss_vs = FAISS.from_embeddings(\n",
    "    text_embeddings=annoy_data, \n",
    "    embedding=OpenAIEmbeddings(),\n",
    "    distance_strategy=DistanceStrategy.DOT_PRODUCT)\n",
    "faiss_vs.save_local(\"./backups/faiss/\")"
   ]
  },
  {
   "cell_type": "code",
   "execution_count": 60,
   "id": "e00668d4-0650-4dd5-934a-2bca0a29f27e",
   "metadata": {},
   "outputs": [],
   "source": [
    "# Load index from file\n",
    "loaded_faiss_vs = FAISS.load_local(\n",
    "    folder_path=\"./backups/faiss/\",\n",
    "    embeddings=OpenAIEmbeddings())\n",
    "\n",
    "retriever = loaded_faiss_vs.as_retriever(search_kwargs={'k': 10})\n",
    "\n",
    "# Define the RAG pipeline\n",
    "template = \"\"\"\n",
    "Given some additional context: {context} Answer the question: \n",
    "Question: {question} \n",
    "\"\"\"\n",
    "prompt = ChatPromptTemplate.from_template(template)"
   ]
  },
  {
   "cell_type": "code",
   "execution_count": 61,
   "id": "3f7a5756-298f-425d-be0e-8816c168a055",
   "metadata": {},
   "outputs": [],
   "source": [
    "def format_docs(_docs):\n",
    "    ls = []\n",
    "    count = 0\n",
    "    for doc in _docs:\n",
    "        if count > 5:\n",
    "            break\n",
    "        count+=1\n",
    "        if doc.page_content in docs:\n",
    "            ls.append(docs[doc.page_content][\"text\"])\n",
    "        \n",
    "    return ls\n",
    "    # return [docs[int(doc.page_content)][\"body\"] for doc in _docs]"
   ]
  },
  {
   "cell_type": "code",
   "execution_count": 62,
   "id": "e9b67855-db6b-42a7-8c38-20ca81eaaeca",
   "metadata": {},
   "outputs": [],
   "source": [
    "chain = ({\"context\": retriever | format_docs, \"question\": RunnablePassthrough()} \n",
    "         | prompt \n",
    "         | llm \n",
    "         | StrOutputParser())"
   ]
  },
  {
   "cell_type": "code",
   "execution_count": 63,
   "id": "e6ca4f8f-51a8-4d71-b8b5-c2983fb5ffe1",
   "metadata": {},
   "outputs": [],
   "source": [
    "# queries['test-environment-aeghhgwpe-pro02a']"
   ]
  },
  {
   "cell_type": "code",
   "execution_count": 64,
   "id": "31ab46da-3217-41c2-aa0f-6518e6935a25",
   "metadata": {},
   "outputs": [
    {
     "data": {
      "text/plain": [
       "'\\nThe context provided argues that being vegetarian is beneficial for the environment, as meat production contributes to pollution, deforestation, and uses up excessive amounts of energy and water. It also suggests that becoming vegetarian is the only responsible way to eat in a world with a growing population.\\n\\nHowever, there are counterarguments that should be considered. For example, the context acknowledges that livestock farming can create unique environments, such as chalk down land in England and mountain pastures, which would be lost if farming ceased. Additionally, it argues that humans have a natural right to exploit lower species for food and that there are ways to produce meat without cruelty to animals. Furthermore, it raises concerns about the safety and hygiene of all food, not just meat, and suggests that locally sourced food can have a similar impact as vegetarianism.\\n\\nIt is important to consider all perspectives and evidence when evaluating the idea that being vegetarian is the best option for the environment.'"
      ]
     },
     "execution_count": 64,
     "metadata": {},
     "output_type": "execute_result"
    }
   ],
   "source": [
    "chain.invoke(queries['test-environment-aeghhgwpe-pro02a']['text'])"
   ]
  },
  {
   "cell_type": "code",
   "execution_count": 65,
   "id": "ba9db072-d4e4-4e3a-bff5-735e79954315",
   "metadata": {},
   "outputs": [
    {
     "name": "stderr",
     "output_type": "stream",
     "text": [
      "Asking Queries to ChatGPT with RAG:   7%|█▉                         | 101/1406 [02:23<30:58,  1.42s/it]\n"
     ]
    }
   ],
   "source": [
    "#### API CALL WARNING #####\n",
    "\n",
    "rag_responses = {}\n",
    "loq = []\n",
    "count  = 0\n",
    "# Run RAG pipeline for every question\n",
    "for query_id in tqdm(rel_set.keys(), desc = 'Asking Queries to ChatGPT with RAG'):\n",
    "    if count > 100:\n",
    "        break\n",
    "    query_text = queries[query_id]['text']\n",
    "    response = chain.invoke(query_text)\n",
    "    rag_responses[query_id] = response\n",
    "    count+=1"
   ]
  },
  {
   "cell_type": "code",
   "execution_count": 48,
   "id": "89478ca1-3feb-43e0-83a5-d346aa677657",
   "metadata": {},
   "outputs": [],
   "source": [
    "# print(queries[61])"
   ]
  },
  {
   "cell_type": "code",
   "execution_count": 66,
   "id": "bb7a72be-5f6b-446e-bb7b-63ad8a8d31db",
   "metadata": {},
   "outputs": [
    {
     "name": "stdout",
     "output_type": "stream",
     "text": [
      "RAG responses saved to ./backups/openai_with_rag_responses_d1_gpt-3.5-turbo-instruct.pkl\n"
     ]
    }
   ],
   "source": [
    "#### DUMP OVERWRITE WARNING ####\n",
    "\n",
    "rag_responses_file_path = './backups/openai_with_rag_responses_d1_' + model + '.pkl'\n",
    "with open(rag_responses_file_path, 'wb') as file:\n",
    "    pickle.dump(rag_responses, file)\n",
    "\n",
    "print(f\"RAG responses saved to {rag_responses_file_path}\")"
   ]
  },
  {
   "cell_type": "code",
   "execution_count": 67,
   "id": "69543307-aca1-4247-94a8-1cd6dd983553",
   "metadata": {},
   "outputs": [],
   "source": [
    "openai_with_rag_responses_file_path = './backups/openai_with_rag_responses_d1_' + model + '.pkl'\n",
    "with open(openai_with_rag_responses_file_path, 'rb') as file:\n",
    "    rag_responses = pickle.load(file)"
   ]
  },
  {
   "cell_type": "code",
   "execution_count": 68,
   "id": "694673f9-44bb-47ff-9fc6-1045afff7035",
   "metadata": {},
   "outputs": [
    {
     "data": {
      "text/plain": [
       "'\\nThe evidence presented in this context supports the argument that being vegetarian is beneficial for the environment. Eating meat and fish contributes to pollution, deforestation, and the depletion of resources like water. The production of meat also requires more energy and produces more greenhouse gas emissions compared to plant-based foods. In addition, the demand for meat drives deforestation, which further contributes to environmental harm. With a growing population, becoming vegetarian is seen as the responsible and sustainable way to eat. However, it is also important to consider the potential impact of a vegetarian diet on unique environments and the issue of food safety and hygiene. Ultimately, the decision to become vegetarian should be based on personal beliefs and values, but the evidence presented suggests that it can have positive effects on the environment.'"
      ]
     },
     "execution_count": 68,
     "metadata": {},
     "output_type": "execute_result"
    }
   ],
   "source": [
    " # Sanity\n",
    "rag_responses['test-environment-aeghhgwpe-pro02a']"
   ]
  },
  {
   "cell_type": "code",
   "execution_count": 16,
   "id": "ecff5f07-b4d6-4e54-bf87-0d851c3ae049",
   "metadata": {},
   "outputs": [
    {
     "data": {
      "text/plain": [
       "\".W\\n   The present study is a history of the DEWEY Decimal\\nClassification.  The first edition of the DDC was published\\nin 1876, the eighteenth edition in 1971, and future editions\\nwill continue to appear as needed.  In spite of the DDC's\\nlong and healthy life, however, its full story has never\\nbeen told.  There have been biographies of Dewey\\nthat briefly describe his system, but this is the first\\nattempt to provide a detailed history of the work that\\nmore than any other has spurred the growth of\\nlibrarianship in this country and abroad.\\n\""
      ]
     },
     "execution_count": 16,
     "metadata": {},
     "output_type": "execute_result"
    }
   ],
   "source": [
    "docs[0]['body']"
   ]
  },
  {
   "cell_type": "code",
   "execution_count": 73,
   "id": "86e89275-062c-49f8-ab9b-ad6bd50f4c89",
   "metadata": {},
   "outputs": [
    {
     "name": "stdout",
     "output_type": "stream",
     "text": [
      "Mean BLEU Score: 0.2906\n",
      "Mean ROUGE Score: 0.2544\n"
     ]
    }
   ],
   "source": [
    "# Implement BLEU evaluation function\n",
    "def compute_bleu(references, candidate):\n",
    "    smoothing = SmoothingFunction().method5\n",
    "    return sentence_bleu(references, candidate, smoothing_function=smoothing)\n",
    "\n",
    "# Implement ROUGE evaluation function\n",
    "def compute_rouge(references, candidate):\n",
    "    scorer = rouge_scorer.RougeScorer(['rouge1'], use_stemmer=True)\n",
    "    total_score = 0\n",
    "\n",
    "    # Compute ROUGE for each reference\n",
    "    for reference in references:\n",
    "        scores = scorer.score(reference, candidate)\n",
    "        total_score += scores['rouge1'].fmeasure\n",
    "\n",
    "    # Calculate average score\n",
    "    average_score = total_score / len(references)\n",
    "    return average_score\n",
    "\n",
    "# Evaluate BLEU and ROUGE for each query\n",
    "\n",
    "K = 30 # Number of most relevant docs to consider for scoring performance\n",
    "total_bleu_score = 0.0\n",
    "total_rouge_score = 0.0\n",
    "num_queries = 0\n",
    "\n",
    "for query_id, relevant_docs in rel_set.items():\n",
    "    query_text = queries[query_id]['text']\n",
    "    response = rag_responses[query_id]\n",
    "\n",
    "    # print(query_id, \"\\n\\n\", query_text, \"\\n\\nResponse:\\n\", response, \"\\nTopmost relevant Doc:\\n\", docs[relevant_docs[0]]['text'], \"\\n======\\n\")\n",
    "    \n",
    "    # Evaluate using BLEU\n",
    "    bleu_score = compute_bleu([docs[id]['text'] for id in relevant_docs[:K]], response)\n",
    "    total_bleu_score += bleu_score\n",
    "\n",
    "    # Evaluate using ROUGE\n",
    "    rouge_score = compute_rouge([docs[id]['text'] for id in relevant_docs[:K]], response)\n",
    "    total_rouge_score += rouge_score\n",
    "\n",
    "    num_queries += 1\n",
    "    if num_queries == 101:\n",
    "        break\n",
    "\n",
    "# Calculate mean scores\n",
    "mean_bleu_score = total_bleu_score / num_queries\n",
    "mean_rouge_score = total_rouge_score / num_queries\n",
    "\n",
    "print(f\"Mean BLEU Score: {mean_bleu_score:.4f}\")\n",
    "print(f\"Mean ROUGE Score: {mean_rouge_score:.4f}\")"
   ]
  },
  {
   "cell_type": "code",
   "execution_count": 18,
   "id": "22b95aab-2ac2-404f-ba82-55a06e8ae2f6",
   "metadata": {},
   "outputs": [],
   "source": [
    "# da-vinci\n",
    "# Mean BLEU Score: 0.8224\n",
    "# Mean ROUGE Score: 0.2105\n",
    "\n",
    "# Mean BLEU Score: 0.8377\n",
    "# Mean ROUGE Score: 0.2226\n",
    "\n",
    "# gpt-3.5-turbo-instruct\n",
    "\n",
    "# Mean BLEU Score: 0.7869\n",
    "# Mean ROUGE Score: 0.2407\n",
    "\n",
    "# Mean BLEU Score: 0.7937\n",
    "# Mean ROUGE Score: 0.2425\n"
   ]
  }
 ],
 "metadata": {
  "kernelspec": {
   "display_name": "Python 3 (ipykernel)",
   "language": "python",
   "name": "python3"
  },
  "language_info": {
   "codemirror_mode": {
    "name": "ipython",
    "version": 3
   },
   "file_extension": ".py",
   "mimetype": "text/x-python",
   "name": "python",
   "nbconvert_exporter": "python",
   "pygments_lexer": "ipython3",
   "version": "3.11.5"
  }
 },
 "nbformat": 4,
 "nbformat_minor": 5
}
