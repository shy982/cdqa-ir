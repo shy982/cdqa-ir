{
 "cells": [
  {
   "cell_type": "code",
   "execution_count": 1,
   "id": "45016a9b-fdc8-4dae-8593-f3888c5ead64",
   "metadata": {},
   "outputs": [],
   "source": [
    "import ir_datasets"
   ]
  },
  {
   "cell_type": "code",
   "execution_count": 2,
   "id": "e4c2af4c-0812-4eea-89b3-aff4e1497841",
   "metadata": {},
   "outputs": [],
   "source": [
    "dataset = ir_datasets.load(\"beir/nfcorpus/test\")"
   ]
  },
  {
   "cell_type": "code",
   "execution_count": 3,
   "id": "1b75a4e5-4573-4aa7-a5ec-0f76ab4bb777",
   "metadata": {},
   "outputs": [
    {
     "name": "stderr",
     "output_type": "stream",
     "text": [
      "[INFO] [starting] opening zip file\n",
      "[INFO] [finished] opening zip file [8ms]\n"
     ]
    }
   ],
   "source": [
    "queries = {}\n",
    "for query in dataset.queries_iter():\n",
    "    queries[query.query_id] = {\"text\": query.text}"
   ]
  },
  {
   "cell_type": "code",
   "execution_count": 4,
   "id": "a838c202-7ef0-44e5-a7a2-91e4bbc6f58a",
   "metadata": {},
   "outputs": [],
   "source": [
    "docs = {}\n",
    "count = 0\n",
    "for doc in dataset.docs_iter():\n",
    "    docs[doc.doc_id] = {\"text\": doc.text}\n",
    "    count += 1"
   ]
  },
  {
   "cell_type": "code",
   "execution_count": 5,
   "id": "c6f6a609-30bf-4f55-bffd-67b7a28fe546",
   "metadata": {},
   "outputs": [],
   "source": [
    "rel_set = {}"
   ]
  },
  {
   "cell_type": "code",
   "execution_count": 6,
   "id": "da0f5ac5-30d4-4d87-87a0-c1b629aafd3e",
   "metadata": {},
   "outputs": [],
   "source": [
    "for qrel in dataset.qrels_iter():\n",
    "    if qrel.query_id not in rel_set:\n",
    "        rel_set[qrel.query_id] = []\n",
    "    if qrel.relevance > 0: \n",
    "        rel_set[qrel.query_id].append(qrel.doc_id)"
   ]
  },
  {
   "cell_type": "code",
   "execution_count": null,
   "id": "a8cb2a67-17eb-43a3-a1cf-c3446793ed1a",
   "metadata": {},
   "outputs": [],
   "source": []
  }
 ],
 "metadata": {
  "kernelspec": {
   "display_name": "Python 3 (ipykernel)",
   "language": "python",
   "name": "python3"
  },
  "language_info": {
   "codemirror_mode": {
    "name": "ipython",
    "version": 3
   },
   "file_extension": ".py",
   "mimetype": "text/x-python",
   "name": "python",
   "nbconvert_exporter": "python",
   "pygments_lexer": "ipython3",
   "version": "3.9.6"
  }
 },
 "nbformat": 4,
 "nbformat_minor": 5
}
