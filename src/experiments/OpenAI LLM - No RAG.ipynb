{
 "cells": [
  {
   "cell_type": "code",
   "execution_count": 1,
   "id": "53d450d4-a778-4e79-aee4-d061c102d6bb",
   "metadata": {},
   "outputs": [],
   "source": [
    "import os\n",
    "import openai\n",
    "from langchain.llms import OpenAI\n",
    "from langchain.chat_models import ChatOpenAI\n",
    "from dotenv import load_dotenv\n",
    "from nltk.tokenize import word_tokenize\n",
    "from tqdm import tqdm\n",
    "import pickle"
   ]
  },
  {
   "cell_type": "code",
   "execution_count": 2,
   "id": "4de2cd29-c1f6-4a98-b843-c2fc4961c6a8",
   "metadata": {},
   "outputs": [],
   "source": [
    "load_dotenv()\n",
    "openai.api_key = os.getenv(\"OPENAI_API_KEY\")"
   ]
  },
  {
   "cell_type": "code",
   "execution_count": 3,
   "id": "32ca5125-5d85-4c52-9059-f9c64e8e74a9",
   "metadata": {},
   "outputs": [],
   "source": [
    "llm = OpenAI(openai_api_key=os.getenv(\"OPENAI_API_KEY\"))"
   ]
  },
  {
   "cell_type": "code",
   "execution_count": 4,
   "id": "e538dc3d-7cbd-4333-86bc-7cc72afda3f6",
   "metadata": {},
   "outputs": [
    {
     "data": {
      "text/plain": [
       "\"\\n\\nNo, there has not been any scientific analysis to determine the world's funniest joke, as humor is so subjective. However, there have been polls conducted to determine the most popular jokes. According to a 2014 survey by the website Laugh Lab, the following joke was the most popular among British respondents: \\n\\n“Two hunters are out in the woods when one of them collapses. He doesn’t seem to be breathing and his eyes are glazed. The other guy whips out his phone and calls the emergency services. He gasps: “My friend is dead! What can I do?” The operator says: “Calm down. I can help. First, let’s make sure he’s dead.” There is a silence, then a gunshot is heard. Back on the phone, the guy says: “OK, now what?”\""
      ]
     },
     "execution_count": 4,
     "metadata": {},
     "output_type": "execute_result"
    }
   ],
   "source": [
    "llm.invoke(\"What's the world's funniest joke? Has there ever been any scientific analysis?\")"
   ]
  },
  {
   "cell_type": "code",
   "execution_count": 9,
   "id": "09a1864e-1407-419a-a5a6-9643a32c4234",
   "metadata": {},
   "outputs": [],
   "source": [
    "def tokenizer(text):\n",
    "    return word_tokenize(text.lower())\n",
    "queries = {}\n",
    "\n",
    "idx = None\n",
    "with open(\"../data/cisi/CISI.QRY\") as f:\n",
    "    for query in f.read().split(\".I\"):\n",
    "        for i, line in enumerate(query.split(\"\\n\")):\n",
    "            if not line:\n",
    "                continue\n",
    "            elif i == 0:\n",
    "                idx = int(line)\n",
    "                queries[idx] = \"\"\n",
    "            elif not line.startswith(\".\"):\n",
    "                queries[idx] += \" \"+line"
   ]
  },
  {
   "cell_type": "code",
   "execution_count": null,
   "id": "8944e68a-04f8-48f6-b74f-795a5aea06ac",
   "metadata": {},
   "outputs": [],
   "source": [
    "# queries"
   ]
  },
  {
   "cell_type": "code",
   "execution_count": 13,
   "id": "3b71d4aa-fbbf-481b-8070-136f6acaf3a4",
   "metadata": {},
   "outputs": [],
   "source": [
    "answers_openai = {}\n",
    "for idx, qry in queries.items():\n",
    "    answers_openai[idx] = llm.invoke(qry)"
   ]
  },
  {
   "cell_type": "code",
   "execution_count": 14,
   "id": "b416fc97-502a-458f-9e35-5404ceae78f5",
   "metadata": {},
   "outputs": [
    {
     "name": "stdout",
     "output_type": "stream",
     "text": [
      "Answers saved to ./backups/answers_openai.pkl\n"
     ]
    }
   ],
   "source": [
    "openai_answers_file_path = './backups/answers_openai.pkl'\n",
    "\n",
    "with open(openai_answers_file_path, 'wb') as file:\n",
    "    pickle.dump(answers_openai, file)\n",
    "\n",
    "\n",
    "print(f\"Answers saved to {openai_answers_file_path}\")"
   ]
  },
  {
   "cell_type": "code",
   "execution_count": null,
   "id": "6126b150-171e-47fb-834f-2e2bcb8720bf",
   "metadata": {},
   "outputs": [],
   "source": []
  }
 ],
 "metadata": {
  "kernelspec": {
   "display_name": "Python 3 (ipykernel)",
   "language": "python",
   "name": "python3"
  },
  "language_info": {
   "codemirror_mode": {
    "name": "ipython",
    "version": 3
   },
   "file_extension": ".py",
   "mimetype": "text/x-python",
   "name": "python",
   "nbconvert_exporter": "python",
   "pygments_lexer": "ipython3",
   "version": "3.11.5"
  }
 },
 "nbformat": 4,
 "nbformat_minor": 5
}
