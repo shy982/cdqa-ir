{
 "cells": [
  {
   "cell_type": "code",
   "execution_count": 1,
   "id": "3f9e2326-638b-4d85-8eb7-d3c65092bc34",
   "metadata": {},
   "outputs": [],
   "source": [
    "# https://python.langchain.com/docs/modules/data_connection/vectorstores/\n",
    "# https://python.langchain.com/docs/integrations/vectorstores/annoy"
   ]
  },
  {
   "cell_type": "code",
   "execution_count": 2,
   "id": "8d6acbf4-0449-433d-8f89-50bca0aeea51",
   "metadata": {},
   "outputs": [],
   "source": [
    "from dotenv import load_dotenv\n",
    "from langchain.embeddings.openai import OpenAIEmbeddings\n",
    "from langchain.vectorstores import Annoy, FAISS\n",
    "from langchain.vectorstores.utils import DistanceStrategy\n",
    "from tqdm import tqdm\n",
    "\n",
    "import numpy as np\n",
    "import os\n",
    "import pickle\n",
    "import time"
   ]
  },
  {
   "cell_type": "code",
   "execution_count": 3,
   "id": "65a32327-6194-42e5-97b2-36b9f1fb656c",
   "metadata": {},
   "outputs": [],
   "source": [
    "load_dotenv()\n",
    "OPENAI_API_KEY = os.getenv('OPENAI_API_KEY')"
   ]
  },
  {
   "cell_type": "code",
   "execution_count": 4,
   "id": "820d0370-b508-43d7-af39-f3b9d91b3929",
   "metadata": {},
   "outputs": [
    {
     "name": "stdout",
     "output_type": "stream",
     "text": [
      "Document embeddings loaded successfully.\n",
      "Query embeddings loaded successfully.\n"
     ]
    }
   ],
   "source": [
    "docs_file_path = './backups/openai_embeddings/doc_embeddings.pkl'\n",
    "\n",
    "with open(docs_file_path, 'rb') as file:\n",
    "    loaded_docs = pickle.load(file)\n",
    "\n",
    "print(\"Document embeddings loaded successfully.\")\n",
    "\n",
    "query_file_path = './backups/openai_embeddings/query_embeddings.pkl'\n",
    "\n",
    "# Load the query embeddings from the file\n",
    "with open(query_file_path, 'rb') as file:\n",
    "    loaded_queries = pickle.load(file)\n",
    "\n",
    "print(\"Query embeddings loaded successfully.\")"
   ]
  },
  {
   "cell_type": "code",
   "execution_count": 5,
   "id": "3055306e-e726-4f40-96fb-c6a34bd9d0ed",
   "metadata": {},
   "outputs": [
    {
     "name": "stdout",
     "output_type": "stream",
     "text": [
      "Grouth truth loaded succesfully.\n"
     ]
    }
   ],
   "source": [
    "# Load the ground truth from the file\n",
    "with open(\"./backups/ground_truth.pkl\", \"rb\") as f:\n",
    "    ground_truth = pickle.load(f)\n",
    "\n",
    "print(\"Grouth truth loaded succesfully.\")"
   ]
  },
  {
   "cell_type": "code",
   "execution_count": 6,
   "id": "231ed619-147d-4023-985e-334285550a37",
   "metadata": {},
   "outputs": [],
   "source": [
    "# def get_text(doc):\n",
    "#     combined_text = doc[\"title\"] + \" \" + doc[\"body\"]\n",
    "#     combined_text = combined_text.replace(\"\\n\", \" \")\n",
    "#     return combined_text"
   ]
  },
  {
   "cell_type": "markdown",
   "id": "e12830eb-f6d1-4587-beb7-548b4b758a00",
   "metadata": {},
   "source": [
    "### Metrics"
   ]
  },
  {
   "cell_type": "code",
   "execution_count": 7,
   "id": "0b64a1fb-9dea-4c28-a29d-1f9a091a9380",
   "metadata": {},
   "outputs": [],
   "source": [
    "def precision_at_k(ranked_docs, relevant_docs, k=10):\n",
    "    retrieved_relevant = 0\n",
    "    for doc_id in ranked_docs[:k]:\n",
    "        if doc_id in relevant_docs:\n",
    "            retrieved_relevant += 1\n",
    "    return retrieved_relevant / k\n",
    "\n",
    "def recall_at_k(ranked_docs, relevant_docs, k=10):\n",
    "    retrieved_relevant = sum(1 for doc_id in ranked_docs[:k] if doc_id in relevant_docs)\n",
    "    return retrieved_relevant / len(relevant_docs) if relevant_docs else 0\n",
    "\n",
    "def dcg_at_k(scores, k=10):\n",
    "    return sum(score / np.log2(idx + 2) for idx, score in enumerate(scores[:k]))\n",
    "\n",
    "def ndcg_at_k(ranked_docs, relevant_docs, k=5):\n",
    "    ideal_scores = [1 if doc_id in relevant_docs else 0 for doc_id in ranked_docs]\n",
    "    actual_scores = [1 if doc_id in relevant_docs else 0 for doc_id in ranked_docs[:k]]\n",
    "    idcg = dcg_at_k(ideal_scores, k)\n",
    "    dcg = dcg_at_k(actual_scores, k)\n",
    "    return dcg / idcg if idcg > 0 else 0"
   ]
  },
  {
   "cell_type": "markdown",
   "id": "042ed853-caa6-4881-ab7a-c5e63abf2e00",
   "metadata": {},
   "source": [
    "### Annoy"
   ]
  },
  {
   "cell_type": "code",
   "execution_count": 8,
   "id": "c311a894-47c7-430c-a4db-3b78f6444653",
   "metadata": {},
   "outputs": [],
   "source": [
    "annoy_data = []\n",
    "for doc in loaded_docs:\n",
    "    annoy_data.append((doc[\"id\"], doc[\"embedding\"]))"
   ]
  },
  {
   "cell_type": "code",
   "execution_count": 9,
   "id": "e5b21c64-c46d-4766-9faf-953fe1777435",
   "metadata": {},
   "outputs": [
    {
     "name": "stdout",
     "output_type": "stream",
     "text": [
      "CPU times: user 1 µs, sys: 1 µs, total: 2 µs\n",
      "Wall time: 2.15 µs\n"
     ]
    }
   ],
   "source": [
    "%time\n",
    "\n",
    "annoy_vs = Annoy.from_embeddings(\n",
    "    text_embeddings=annoy_data, \n",
    "    embedding=OpenAIEmbeddings(), \n",
    "    metric=\"dot\")"
   ]
  },
  {
   "cell_type": "code",
   "execution_count": 10,
   "id": "eb202003-8a5a-4faf-80a2-1d0a8e706d4d",
   "metadata": {},
   "outputs": [],
   "source": [
    "# !mkdir ./backups/annoy/\n",
    "annoy_vs.save_local(\"./backups/annoy/\")"
   ]
  },
  {
   "cell_type": "code",
   "execution_count": 11,
   "id": "e8f86826-e888-4c93-bca3-5eb7ccf0ec6e",
   "metadata": {},
   "outputs": [],
   "source": [
    "# Load index from file\n",
    "loaded_annoy_vs = Annoy.load_local(\n",
    "    folder_path=\"./backups/annoy/\", \n",
    "    embeddings=OpenAIEmbeddings())"
   ]
  },
  {
   "cell_type": "code",
   "execution_count": 12,
   "id": "4431e2df-820e-4115-a21c-8551f74d1af9",
   "metadata": {},
   "outputs": [
    {
     "name": "stderr",
     "output_type": "stream",
     "text": [
      "Computing similarity scores: 100%|████████████████████████| 112/112 [00:00<00:00, 410.71it/s]"
     ]
    },
    {
     "name": "stdout",
     "output_type": "stream",
     "text": [
      "Mean execution time for all queries: 2.39 ms\n"
     ]
    },
    {
     "name": "stderr",
     "output_type": "stream",
     "text": [
      "\n"
     ]
    }
   ],
   "source": [
    "# Calculate cosine similarity for each query-document pair\n",
    "annoy_similarity_scores = {}\n",
    "execution_times = [] \n",
    "for query_id, query in tqdm(loaded_queries.items(), desc=\"Computing similarity scores\"):\n",
    "    start_time = time.time()\n",
    "    scores = loaded_annoy_vs.similarity_search_with_score_by_vector(query[\"embedding\"], k=100)\n",
    "    end_time = time.time()  # Record end time\n",
    "    execution_time = (end_time - start_time) * 1000  # Convert to milliseconds\n",
    "    execution_times.append(execution_time)\n",
    "\n",
    "    new_scores = []\n",
    "    for score in scores:\n",
    "        new_scores.append((int(score[0].page_content), score[1]))\n",
    "    annoy_similarity_scores[query_id] = sorted(new_scores, key=lambda x: x[1], reverse=True)\n",
    "\n",
    "mean_execution_time = sum(execution_times) / len(execution_times)\n",
    "print(f\"Mean execution time for all queries: {mean_execution_time:.2f} ms\")"
   ]
  },
  {
   "cell_type": "code",
   "execution_count": 13,
   "id": "8298522d-083b-4a68-b49c-3c5c7e1b1ddc",
   "metadata": {},
   "outputs": [],
   "source": [
    "with open(\"./backups/annoy/annoy_similarity_scores.pkl\", \"wb\") as f:\n",
    "    pickle.dump(annoy_similarity_scores, f)"
   ]
  },
  {
   "cell_type": "code",
   "execution_count": 14,
   "id": "0e07dba8-12d0-4bc2-a6f4-6a7030da638a",
   "metadata": {},
   "outputs": [],
   "source": [
    "annoy_predictions = [0]*(len(annoy_similarity_scores)+1)\n",
    "for idx, scores in annoy_similarity_scores.items():\n",
    "    scores_flattened = [doc for doc, score in scores]\n",
    "    annoy_predictions[idx] = scores_flattened"
   ]
  },
  {
   "cell_type": "code",
   "execution_count": 15,
   "id": "4fedc67e-1369-4022-aa24-f9f252105c41",
   "metadata": {},
   "outputs": [],
   "source": [
    "annoy_mean_precision_at_k = np.mean(\n",
    "    [precision_at_k(preds, label) for preds, label in zip(annoy_predictions[1:], ground_truth)])\n",
    "annoy_mean_recall_at_k = np.mean(\n",
    "    [recall_at_k(preds, label) for preds, label in zip(annoy_predictions[1:], ground_truth)])\n",
    "annoy_mean_ndcg_at_k = np.mean(\n",
    "    [ndcg_at_k(preds, label) for preds, label in zip(annoy_predictions[1:], ground_truth)])\n",
    "annoy_mean_sps = np.mean(\n",
    "    [precision_at_k(preds, label, 1) for preds, label in zip(annoy_predictions[1:], ground_truth)])"
   ]
  },
  {
   "cell_type": "code",
   "execution_count": 16,
   "id": "9e3ba33b-4464-4c90-a168-18240f92e9ee",
   "metadata": {},
   "outputs": [
    {
     "data": {
      "text/plain": [
       "(0.9705357142857144, 0.003116685016974034, 1.0, 0.9821428571428571)"
      ]
     },
     "execution_count": 16,
     "metadata": {},
     "output_type": "execute_result"
    }
   ],
   "source": [
    "annoy_mean_precision_at_k, annoy_mean_recall_at_k, annoy_mean_ndcg_at_k, annoy_mean_sps"
   ]
  },
  {
   "cell_type": "markdown",
   "id": "eeb71e20-539a-4411-8c75-7c547e371f20",
   "metadata": {},
   "source": [
    "### FAISS"
   ]
  },
  {
   "cell_type": "code",
   "execution_count": 17,
   "id": "6b8e2997-e747-4228-a9fd-ab7ea8acb420",
   "metadata": {},
   "outputs": [
    {
     "name": "stdout",
     "output_type": "stream",
     "text": [
      "CPU times: user 1e+03 ns, sys: 0 ns, total: 1e+03 ns\n",
      "Wall time: 2.15 µs\n"
     ]
    }
   ],
   "source": [
    "%time\n",
    "\n",
    "faiss_vs = FAISS.from_embeddings(\n",
    "    text_embeddings=annoy_data, \n",
    "    embedding=OpenAIEmbeddings(),\n",
    "    distance_strategy=DistanceStrategy.DOT_PRODUCT)"
   ]
  },
  {
   "cell_type": "code",
   "execution_count": 18,
   "id": "0ce10ea9-c0c1-4b70-b0fb-a96d9d9babd6",
   "metadata": {},
   "outputs": [],
   "source": [
    "# !mkdir ./backups/faiss/\n",
    "faiss_vs.save_local(\"./backups/faiss/\")"
   ]
  },
  {
   "cell_type": "code",
   "execution_count": 19,
   "id": "a5911215-27b8-4955-bf40-6bbbe7bae4e9",
   "metadata": {},
   "outputs": [],
   "source": [
    "# Load index from file\n",
    "loaded_faiss_vs = FAISS.load_local(\n",
    "    folder_path=\"./backups/faiss/\",\n",
    "    embeddings=OpenAIEmbeddings())"
   ]
  },
  {
   "cell_type": "code",
   "execution_count": 20,
   "id": "8e21fe50-2ce9-44d4-9941-3fe133f04964",
   "metadata": {},
   "outputs": [
    {
     "name": "stderr",
     "output_type": "stream",
     "text": [
      "Computing similarity scores: 100%|███████████████████████| 112/112 [00:00<00:00, 1248.71it/s]"
     ]
    },
    {
     "name": "stdout",
     "output_type": "stream",
     "text": [
      "Mean execution time for all queries: 0.68 ms\n"
     ]
    },
    {
     "name": "stderr",
     "output_type": "stream",
     "text": [
      "\n"
     ]
    }
   ],
   "source": [
    "# Calculate cosine similarity for each query-document pair\n",
    "faiss_similarity_scores = {}\n",
    "execution_times = [] \n",
    "for query_id, query in tqdm(loaded_queries.items(), desc=\"Computing similarity scores\"):\n",
    "    start_time = time.time()\n",
    "    scores = loaded_faiss_vs.similarity_search_with_score_by_vector(query[\"embedding\"], k=100)\n",
    "    end_time = time.time()  # Record end time\n",
    "    execution_time = (end_time - start_time) * 1000  # Convert to milliseconds\n",
    "    execution_times.append(execution_time)\n",
    "\n",
    "    new_scores = []\n",
    "    for score in scores:\n",
    "        new_scores.append((int(score[0].page_content), 1 - score[1]))\n",
    "    faiss_similarity_scores[query_id] = sorted(new_scores, key=lambda x: x[1], reverse=True)\n",
    "\n",
    "mean_execution_time = sum(execution_times) / len(execution_times)\n",
    "print(f\"Mean execution time for all queries: {mean_execution_time:.2f} ms\")"
   ]
  },
  {
   "cell_type": "code",
   "execution_count": 21,
   "id": "f3899516-9049-45aa-9acf-8780db4e0deb",
   "metadata": {},
   "outputs": [],
   "source": [
    "with open(\"./backups/faiss/faiss_similarity_scores.pkl\", \"wb\") as f:\n",
    "    pickle.dump(faiss_similarity_scores, f)"
   ]
  },
  {
   "cell_type": "code",
   "execution_count": 22,
   "id": "40ae6768-bf3b-45ef-9d18-48000dc48542",
   "metadata": {},
   "outputs": [],
   "source": [
    "faiss_predictions = [0]*(len(faiss_similarity_scores)+1)\n",
    "for idx, scores in annoy_similarity_scores.items():\n",
    "    scores_flattened = [doc for doc, score in scores]\n",
    "    faiss_predictions[idx] = scores_flattened"
   ]
  },
  {
   "cell_type": "code",
   "execution_count": 23,
   "id": "d4f586ee-a4dc-4614-a102-ab1fb2ad2f0c",
   "metadata": {},
   "outputs": [],
   "source": [
    "faiss_mean_precision_at_k = np.mean(\n",
    "    [precision_at_k(preds, label) for preds, label in zip(faiss_predictions[1:], ground_truth)])\n",
    "faiss_mean_recall_at_k = np.mean(\n",
    "    [recall_at_k(preds, label) for preds, label in zip(faiss_predictions[1:], ground_truth)])\n",
    "faiss_mean_ndcg_at_k = np.mean(\n",
    "    [ndcg_at_k(preds, label) for preds, label in zip(faiss_predictions[1:], ground_truth)])\n",
    "faiss_mean_sps = np.mean(\n",
    "    [precision_at_k(preds, label, 1) for preds, label in zip(faiss_predictions[1:], ground_truth)])"
   ]
  },
  {
   "cell_type": "code",
   "execution_count": 24,
   "id": "c158afba-1596-4dd3-94b8-65298303e8d2",
   "metadata": {},
   "outputs": [
    {
     "data": {
      "text/plain": [
       "(0.9705357142857144, 0.003116685016974034, 1.0, 0.9821428571428571)"
      ]
     },
     "execution_count": 24,
     "metadata": {},
     "output_type": "execute_result"
    }
   ],
   "source": [
    "faiss_mean_precision_at_k, faiss_mean_recall_at_k, faiss_mean_ndcg_at_k, faiss_mean_sps"
   ]
  },
  {
   "cell_type": "code",
   "execution_count": null,
   "id": "5a242a69-31db-472b-915e-010b276b3b7f",
   "metadata": {},
   "outputs": [],
   "source": []
  }
 ],
 "metadata": {
  "kernelspec": {
   "display_name": "Python 3 (ipykernel)",
   "language": "python",
   "name": "python3"
  },
  "language_info": {
   "codemirror_mode": {
    "name": "ipython",
    "version": 3
   },
   "file_extension": ".py",
   "mimetype": "text/x-python",
   "name": "python",
   "nbconvert_exporter": "python",
   "pygments_lexer": "ipython3",
   "version": "3.9.6"
  }
 },
 "nbformat": 4,
 "nbformat_minor": 5
}
