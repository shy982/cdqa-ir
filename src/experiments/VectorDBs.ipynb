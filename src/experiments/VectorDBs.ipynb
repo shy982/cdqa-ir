{
 "cells": [
  {
   "cell_type": "code",
   "execution_count": 1,
   "id": "3f9e2326-638b-4d85-8eb7-d3c65092bc34",
   "metadata": {},
   "outputs": [],
   "source": [
    "# https://python.langchain.com/docs/modules/data_connection/vectorstores/\n",
    "# https://python.langchain.com/docs/integrations/vectorstores/annoy"
   ]
  },
  {
   "cell_type": "code",
   "execution_count": 2,
   "id": "8d6acbf4-0449-433d-8f89-50bca0aeea51",
   "metadata": {},
   "outputs": [],
   "source": [
    "from dotenv import load_dotenv\n",
    "from langchain.embeddings.openai import OpenAIEmbeddings\n",
    "from langchain.vectorstores import Annoy, FAISS\n",
    "from langchain.vectorstores.utils import DistanceStrategy\n",
    "from tqdm import tqdm\n",
    "\n",
    "import numpy as np\n",
    "import os\n",
    "import pickle"
   ]
  },
  {
   "cell_type": "code",
   "execution_count": 3,
   "id": "65a32327-6194-42e5-97b2-36b9f1fb656c",
   "metadata": {},
   "outputs": [],
   "source": [
    "load_dotenv()\n",
    "OPENAI_API_KEY = os.getenv('OPENAI_API_KEY')"
   ]
  },
  {
   "cell_type": "code",
   "execution_count": 4,
   "id": "820d0370-b508-43d7-af39-f3b9d91b3929",
   "metadata": {},
   "outputs": [
    {
     "name": "stdout",
     "output_type": "stream",
     "text": [
      "Document embeddings loaded successfully.\n",
      "Query embeddings loaded successfully.\n"
     ]
    }
   ],
   "source": [
    "docs_file_path = './backups/doc_embeddings.pkl'\n",
    "\n",
    "with open(docs_file_path, 'rb') as file:\n",
    "    loaded_docs = pickle.load(file)\n",
    "\n",
    "print(\"Document embeddings loaded successfully.\")\n",
    "\n",
    "query_file_path = './backups/query_embeddings.pkl'\n",
    "\n",
    "# Load the query embeddings from the file\n",
    "with open(query_file_path, 'rb') as file:\n",
    "    loaded_queries = pickle.load(file)\n",
    "\n",
    "print(\"Query embeddings loaded successfully.\")"
   ]
  },
  {
   "cell_type": "code",
   "execution_count": 5,
   "id": "231ed619-147d-4023-985e-334285550a37",
   "metadata": {},
   "outputs": [],
   "source": [
    "# def get_text(doc):\n",
    "#     combined_text = doc[\"title\"] + \" \" + doc[\"body\"]\n",
    "#     combined_text = combined_text.replace(\"\\n\", \" \")\n",
    "#     return combined_text"
   ]
  },
  {
   "cell_type": "markdown",
   "id": "e12830eb-f6d1-4587-beb7-548b4b758a00",
   "metadata": {},
   "source": [
    "### Metrics"
   ]
  },
  {
   "cell_type": "code",
   "execution_count": 6,
   "id": "0b64a1fb-9dea-4c28-a29d-1f9a091a9380",
   "metadata": {},
   "outputs": [],
   "source": [
    "def precision_at_k(ranked_docs, relevant_docs, k=10):\n",
    "    retrieved_relevant = 0\n",
    "    for doc_id, _ in ranked_docs[:k]:\n",
    "        if doc_id in relevant_docs:\n",
    "            retrieved_relevant += 1\n",
    "    return retrieved_relevant / k\n",
    "\n",
    "def recall_at_k(ranked_docs, relevant_docs, k=10):\n",
    "    retrieved_relevant = sum(1 for doc_id, _ in ranked_docs[:k] if doc_id in relevant_docs)\n",
    "    return retrieved_relevant / len(relevant_docs) if relevant_docs else 0\n",
    "    \n",
    "def dcg_at_k(scores, k=10):\n",
    "    return sum(score / np.log2(idx + 2) for idx, score in enumerate(scores[:k]))\n",
    "\n",
    "def ndcg_at_k(ranked_docs, relevant_docs, k=5):\n",
    "    ideal_scores = [1 if doc_id in relevant_docs else 0 for doc_id, _ in ranked_docs]\n",
    "    actual_scores = [1 if doc_id in relevant_docs else 0 for doc_id, _ in ranked_docs[:k]]\n",
    "    idcg = dcg_at_k(ideal_scores, k)\n",
    "    dcg = dcg_at_k(actual_scores, k)\n",
    "    return dcg / idcg if idcg > 0 else 0"
   ]
  },
  {
   "cell_type": "code",
   "execution_count": 7,
   "id": "14516761-4c09-4b8c-8441-7936bb73eef3",
   "metadata": {},
   "outputs": [],
   "source": [
    "def get_metrics(similarity_scores_for_query_id, relevant_docs_for_query, k=10):\n",
    "    precision = precision_at_k(similarity_scores_for_query_id, relevant_docs_for_query, k)\n",
    "    recall = recall_at_k(similarity_scores_for_query_id, relevant_docs_for_query, k)\n",
    "    ndcg = ndcg_at_k(similarity_scores_for_query_id, relevant_docs_for_query, k)\n",
    "\n",
    "    return precision, recall, ndcg"
   ]
  },
  {
   "cell_type": "markdown",
   "id": "042ed853-caa6-4881-ab7a-c5e63abf2e00",
   "metadata": {},
   "source": [
    "### Annoy"
   ]
  },
  {
   "cell_type": "code",
   "execution_count": 8,
   "id": "c311a894-47c7-430c-a4db-3b78f6444653",
   "metadata": {},
   "outputs": [],
   "source": [
    "annoy_data = []\n",
    "for doc in loaded_docs:\n",
    "    annoy_data.append((doc[\"id\"], doc[\"embedding\"]))"
   ]
  },
  {
   "cell_type": "code",
   "execution_count": 9,
   "id": "e5b21c64-c46d-4766-9faf-953fe1777435",
   "metadata": {},
   "outputs": [],
   "source": [
    "annoy_vs = Annoy.from_embeddings(\n",
    "    text_embeddings=annoy_data, \n",
    "    embedding=OpenAIEmbeddings(), \n",
    "    metric=\"dot\")"
   ]
  },
  {
   "cell_type": "code",
   "execution_count": 10,
   "id": "eb202003-8a5a-4faf-80a2-1d0a8e706d4d",
   "metadata": {},
   "outputs": [],
   "source": [
    "# !mkdir ./backups/annoy/\n",
    "annoy_vs.save_local(\"./backups/annoy/\")"
   ]
  },
  {
   "cell_type": "code",
   "execution_count": 11,
   "id": "4431e2df-820e-4115-a21c-8551f74d1af9",
   "metadata": {},
   "outputs": [
    {
     "name": "stderr",
     "output_type": "stream",
     "text": [
      "Computing similarity scores: 100%|██████████████████████| 1460/1460 [00:03<00:00, 415.04it/s]\n"
     ]
    }
   ],
   "source": [
    "# Calculate cosine similarity for each query-document pair\n",
    "annoy_similarity_scores = {}\n",
    "for query in tqdm(loaded_queries, desc=\"Computing similarity scores\"):\n",
    "    scores = annoy_vs.similarity_search_with_score_by_vector(query[\"embedding\"], k=100)\n",
    "    new_scores = []\n",
    "    for score in scores:\n",
    "        new_scores.append((int(score[0].page_content), score[1]))\n",
    "    annoy_similarity_scores[query[\"id\"]] = sorted(new_scores, key=lambda x: x[1], reverse=True)"
   ]
  },
  {
   "cell_type": "code",
   "execution_count": 12,
   "id": "8298522d-083b-4a68-b49c-3c5c7e1b1ddc",
   "metadata": {},
   "outputs": [],
   "source": [
    "with open(\"./backups/annoy/annoy_similarity_scores.pkl\", \"wb\") as f:\n",
    "    pickle.dump(annoy_similarity_scores, f)"
   ]
  },
  {
   "cell_type": "code",
   "execution_count": 13,
   "id": "f805d9d2-4619-40eb-b899-779568a10627",
   "metadata": {},
   "outputs": [
    {
     "name": "stdout",
     "output_type": "stream",
     "text": [
      "Precision@10: 0.3, Recall@10: 1.0, NDCG@10: 1.0\n"
     ]
    }
   ],
   "source": [
    "p_at_k, r_at_k, n_at_k = get_metrics(\n",
    "    similarity_scores_for_query_id=annoy_similarity_scores[1], \n",
    "    relevant_docs_for_query=[1, 898, 361], \n",
    "    k=10)\n",
    "print(f\"Precision@10: {p_at_k}, Recall@10: {r_at_k}, NDCG@10: {n_at_k}\")"
   ]
  },
  {
   "cell_type": "markdown",
   "id": "eeb71e20-539a-4411-8c75-7c547e371f20",
   "metadata": {},
   "source": [
    "### FAISS"
   ]
  },
  {
   "cell_type": "code",
   "execution_count": 14,
   "id": "6b8e2997-e747-4228-a9fd-ab7ea8acb420",
   "metadata": {},
   "outputs": [],
   "source": [
    "faiss_vs = FAISS.from_embeddings(\n",
    "    text_embeddings=annoy_data, \n",
    "    embedding=OpenAIEmbeddings(),\n",
    "    distance_strategy=DistanceStrategy.DOT_PRODUCT)"
   ]
  },
  {
   "cell_type": "code",
   "execution_count": 15,
   "id": "0ce10ea9-c0c1-4b70-b0fb-a96d9d9babd6",
   "metadata": {},
   "outputs": [],
   "source": [
    "# !mkdir ./backups/faiss/\n",
    "faiss_vs.save_local(\"./backups/faiss/\")"
   ]
  },
  {
   "cell_type": "code",
   "execution_count": 16,
   "id": "8e21fe50-2ce9-44d4-9941-3fe133f04964",
   "metadata": {},
   "outputs": [
    {
     "name": "stderr",
     "output_type": "stream",
     "text": [
      "Computing similarity scores: 100%|█████████████████████| 1460/1460 [00:00<00:00, 2335.64it/s]\n"
     ]
    }
   ],
   "source": [
    "# Calculate cosine similarity for each query-document pair\n",
    "faiss_similarity_scores = {}\n",
    "for query in tqdm(loaded_queries, desc=\"Computing similarity scores\"):\n",
    "    scores = faiss_vs.similarity_search_with_score_by_vector(query[\"embedding\"], k=100)\n",
    "    new_scores = []\n",
    "    for score in scores:\n",
    "        new_scores.append((int(score[0].page_content), 1 - score[1]))\n",
    "    faiss_similarity_scores[query[\"id\"]] = sorted(new_scores, key=lambda x: x[1], reverse=True)"
   ]
  },
  {
   "cell_type": "code",
   "execution_count": 17,
   "id": "f3899516-9049-45aa-9acf-8780db4e0deb",
   "metadata": {},
   "outputs": [],
   "source": [
    "with open(\"./backups/faiss/faiss_similarity_scores.pkl\", \"wb\") as f:\n",
    "    pickle.dump(faiss_similarity_scores, f)"
   ]
  },
  {
   "cell_type": "code",
   "execution_count": 18,
   "id": "6fd75b39-fe79-488e-87d7-76398e2950c9",
   "metadata": {},
   "outputs": [
    {
     "name": "stdout",
     "output_type": "stream",
     "text": [
      "Precision@10: 0.3, Recall@10: 1.0, NDCG@10: 1.0\n"
     ]
    }
   ],
   "source": [
    "p_at_k, r_at_k, n_at_k = get_metrics(\n",
    "    similarity_scores_for_query_id=faiss_similarity_scores[1], \n",
    "    relevant_docs_for_query=[1, 898, 361], \n",
    "    k=10)\n",
    "print(f\"Precision@10: {p_at_k}, Recall@10: {r_at_k}, NDCG@10: {n_at_k}\")"
   ]
  },
  {
   "cell_type": "code",
   "execution_count": null,
   "id": "ca42d444-9b57-4100-b9d5-3825d5b2dbc3",
   "metadata": {},
   "outputs": [],
   "source": []
  }
 ],
 "metadata": {
  "kernelspec": {
   "display_name": "Python 3 (ipykernel)",
   "language": "python",
   "name": "python3"
  },
  "language_info": {
   "codemirror_mode": {
    "name": "ipython",
    "version": 3
   },
   "file_extension": ".py",
   "mimetype": "text/x-python",
   "name": "python",
   "nbconvert_exporter": "python",
   "pygments_lexer": "ipython3",
   "version": "3.9.6"
  }
 },
 "nbformat": 4,
 "nbformat_minor": 5
}
