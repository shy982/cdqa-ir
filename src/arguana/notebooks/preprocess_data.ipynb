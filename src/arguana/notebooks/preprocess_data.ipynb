{
 "cells": [
  {
   "cell_type": "code",
   "execution_count": 1,
   "id": "60b7c8aa-f5fc-4077-947e-19c4ab841206",
   "metadata": {},
   "outputs": [],
   "source": [
    "import ir_datasets\n",
    "import pickle"
   ]
  },
  {
   "cell_type": "code",
   "execution_count": 2,
   "id": "e153a72d-408b-4649-9bb3-03027d6139df",
   "metadata": {},
   "outputs": [],
   "source": [
    "# Load the arguAna dataset\n",
    "dataset = ir_datasets.load(\"beir/arguana\")"
   ]
  },
  {
   "cell_type": "markdown",
   "id": "66230d62-e56e-4da0-9d31-92d076018082",
   "metadata": {},
   "source": [
    "### Documents"
   ]
  },
  {
   "cell_type": "code",
   "execution_count": 3,
   "id": "a4075d02-282f-4a9c-a116-101bc367251d",
   "metadata": {},
   "outputs": [],
   "source": [
    "docs = {}"
   ]
  },
  {
   "cell_type": "code",
   "execution_count": 4,
   "id": "5ef442cd-362e-4fd2-bdae-ead71af45d94",
   "metadata": {},
   "outputs": [],
   "source": [
    "count = 0\n",
    "for doc in dataset.docs_iter():\n",
    "    docs[doc.doc_id] = {\"text\": doc.text}\n",
    "    count += 1\n",
    "    if count >= 2000:\n",
    "        break"
   ]
  },
  {
   "cell_type": "code",
   "execution_count": 5,
   "id": "365fe148-6485-41e8-bc9e-bef8af67fb92",
   "metadata": {},
   "outputs": [
    {
     "data": {
      "text/plain": [
       "\"You don’t have to be vegetarian to be green. Many special environments have been created by livestock farming – for example chalk down land in England and mountain pastures in many countries. Ending livestock farming would see these areas go back to woodland with a loss of many unique plants and animals. Growing crops can also be very bad for the planet, with fertilisers and pesticides polluting rivers, lakes and seas. Most tropical forests are now cut down for timber, or to allow oil palm trees to be grown in plantations, not to create space for meat production.  British farmer and former editor Simon Farrell also states: “Many vegans and vegetarians rely on one source from the U.N. calculation that livestock generates 18% of global carbon emissions, but this figure contains basic mistakes. It attributes all deforestation from ranching to cattle, rather than logging or development. It also muddles up one-off emissions from deforestation with on-going pollution.”  He also refutes the statement of meat production inefficiency: “Scientists have calculated that globally the ratio between the amounts of useful plant food used to produce meat is about 5 to 1. If you feed animals only food that humans can eat — which is, indeed, largely the case in the Western world — that may be true. But animals also eat food we can't eat, such as grass. So the real conversion figure is 1.4 to 1.” [1] At the same time eating a vegetarian diet may be no more environmentally friendly than a meat based diet if it is not sustainably sourced or uses perishable fruit and vegetables that are flown in from around the world. Eating locally sourced food can has as big an impact as being vegetarian. [2]  [1] Tara Kelly, Simon Fairlie: How Eating Meat Can Save the World, 12 October 2010  [2] Lucy Siegle, ‘It is time to become a vegetarian?’ The Observer, 18th May 2008\""
      ]
     },
     "execution_count": 5,
     "metadata": {},
     "output_type": "execute_result"
    }
   ],
   "source": [
    "# Sanity check\n",
    "docs['test-environment-aeghhgwpe-pro02b']['text']"
   ]
  },
  {
   "cell_type": "code",
   "execution_count": 6,
   "id": "49b94865-7a1f-44d9-b4e2-058d8c5dd3f5",
   "metadata": {},
   "outputs": [
    {
     "data": {
      "text/plain": [
       "2000"
      ]
     },
     "execution_count": 6,
     "metadata": {},
     "output_type": "execute_result"
    }
   ],
   "source": [
    "# Sanity Check\n",
    "len(docs)"
   ]
  },
  {
   "cell_type": "code",
   "execution_count": 7,
   "id": "ad244164-fd4a-42ff-8793-baba79b6873f",
   "metadata": {},
   "outputs": [],
   "source": [
    "# Save documents to file\n",
    "with open(\"../dataset/documents.pkl\", \"wb\") as f:\n",
    "    pickle.dump(docs, f)"
   ]
  },
  {
   "cell_type": "markdown",
   "id": "6ab04527-e123-40e3-b84a-a948d2b58483",
   "metadata": {},
   "source": [
    "### Queries"
   ]
  },
  {
   "cell_type": "code",
   "execution_count": 8,
   "id": "85291552-a8ab-4b1b-9d6f-f2a90b65e5bd",
   "metadata": {},
   "outputs": [],
   "source": [
    "queries = {}"
   ]
  },
  {
   "cell_type": "code",
   "execution_count": 9,
   "id": "b79a4bc7-fced-4930-9a6e-67b7bafc1324",
   "metadata": {},
   "outputs": [],
   "source": [
    "for query in dataset.queries_iter():\n",
    "    queries[query.query_id] = {\"text\":query.text}"
   ]
  },
  {
   "cell_type": "code",
   "execution_count": 10,
   "id": "6f32e5fc-8603-4791-934c-8c0110563180",
   "metadata": {},
   "outputs": [
    {
     "data": {
      "text/plain": [
       "\"Being vegetarian helps the environment  Becoming a vegetarian is an environmentally friendly thing to do. Modern farming is one of the main sources of pollution in our rivers. Beef farming is one of the main causes of deforestation, and as long as people continue to buy fast food in their billions, there will be a financial incentive to continue cutting down trees to make room for cattle. Because of our desire to eat fish, our rivers and seas are being emptied of fish and many species are facing extinction. Energy resources are used up much more greedily by meat farming than my farming cereals, pulses etc. Eating meat and fish not only causes cruelty to animals, it causes serious harm to the environment and to biodiversity. For example consider Meat production related pollution and deforestation  At Toronto’s 1992 Royal Agricultural Winter Fair, Agriculture Canada displayed two contrasting statistics: “it takes four football fields of land (about 1.6 hectares) to feed each Canadian” and “one apple tree produces enough fruit to make 320 pies.” Think about it — a couple of apple trees and a few rows of wheat on a mere fraction of a hectare could produce enough food for one person! [1]  The 2006 U.N. Food and Agriculture Organization (FAO) report concluded that worldwide livestock farming generates 18% of the planet's greenhouse gas emissions — by comparison, all the world's cars, trains, planes and boats account for a combined 13% of greenhouse gas emissions. [2]  As a result of the above point producing meat damages the environment. The demand for meat drives deforestation. Daniel Cesar Avelino of Brazil's Federal Public Prosecution Office says “We know that the single biggest driver of deforestation in the Amazon is cattle.” This clearing of tropical rainforests such as the Amazon for agriculture is estimated to produce 17% of the world's greenhouse gas emissions. [3] Not only this but the production of meat takes a lot more energy than it ultimately gives us chicken meat production consumes energy in a 4:1 ratio to protein output; beef cattle production requires an energy input to protein output ratio of 54:1.  The same is true with water use due to the same phenomenon of meat being inefficient to produce in terms of the amount of grain needed to produce the same weight of meat, production requires a lot of water. Water is another scarce resource that we will soon not have enough of in various areas of the globe. Grain-fed beef production takes 100,000 liters of water for every kilogram of food. Raising broiler chickens takes 3,500 liters of water to make a kilogram of meat. In comparison, soybean production uses 2,000 liters for kilogram of food produced; rice, 1,912; wheat, 900; and potatoes, 500 liters. [4] This is while there are areas of the globe that have severe water shortages. With farming using up to 70 times more water than is used for domestic purposes: cooking and washing. A third of the population of the world is already suffering from a shortage of water. [5] Groundwater levels are falling all over the world and rivers are beginning to dry up. Already some of the biggest rivers such as China’s Yellow river do not reach the sea. [6]  With a rising population becoming vegetarian is the only responsible way to eat.  [1] Stephen Leckie, ‘How Meat-centred Eating Patterns Affect Food Security and the Environment’, International development research center  [2] Bryan Walsh, Meat: Making Global Warming Worse, Time magazine, 10 September 2008 .  [3] David Adam, Supermarket suppliers ‘helping to destroy Amazon rainforest’, The Guardian, 21st June 2009.  [4] Roger Segelken, U.S. could feed 800 million people with grain that livestock eat, Cornell Science News, 7th August 1997.  [5] Fiona Harvey, Water scarcity affects one in three, FT.com, 21st August 2003  [6] Rupert Wingfield-Hayes, Yellow river ‘drying up’, BBC News, 29th July 2004\""
      ]
     },
     "execution_count": 10,
     "metadata": {},
     "output_type": "execute_result"
    }
   ],
   "source": [
    "# Sanity Check\n",
    "queries['test-environment-aeghhgwpe-pro02a']['text']"
   ]
  },
  {
   "cell_type": "code",
   "execution_count": 11,
   "id": "85c5662e-25cd-47f7-855a-6bc709f3796f",
   "metadata": {},
   "outputs": [
    {
     "data": {
      "text/plain": [
       "1406"
      ]
     },
     "execution_count": 11,
     "metadata": {},
     "output_type": "execute_result"
    }
   ],
   "source": [
    "# Sanity check\n",
    "len(queries)"
   ]
  },
  {
   "cell_type": "code",
   "execution_count": 12,
   "id": "624ef26c-3846-4f97-b0ea-79dc7275c19b",
   "metadata": {},
   "outputs": [],
   "source": [
    "# Save queries to file\n",
    "with open(\"../dataset/queries.pkl\", \"wb\") as f:\n",
    "    pickle.dump(queries, f)"
   ]
  },
  {
   "cell_type": "markdown",
   "id": "093c27c9-5453-4f20-b6c6-fb924ca827bf",
   "metadata": {},
   "source": [
    "### Relevance Set (Ground Truth)"
   ]
  },
  {
   "cell_type": "code",
   "execution_count": 13,
   "id": "237e8959-460b-4552-9c11-50af522acb41",
   "metadata": {},
   "outputs": [],
   "source": [
    "ground_truth = {}"
   ]
  },
  {
   "cell_type": "code",
   "execution_count": 14,
   "id": "edd44e7d-d269-4bb0-85bf-862bb066eae3",
   "metadata": {},
   "outputs": [],
   "source": [
    "for qrel in dataset.qrels_iter():\n",
    "    if qrel.query_id not in ground_truth:\n",
    "        ground_truth[qrel.query_id] = []\n",
    "    if qrel.relevance > 0: \n",
    "        ground_truth[qrel.query_id].append(qrel.doc_id)"
   ]
  },
  {
   "cell_type": "code",
   "execution_count": 15,
   "id": "908e89b9-9004-48df-9632-9a4662305dbe",
   "metadata": {},
   "outputs": [
    {
     "data": {
      "text/plain": [
       "(['test-environment-aeghhgwpe-pro02b'], 1406)"
      ]
     },
     "execution_count": 15,
     "metadata": {},
     "output_type": "execute_result"
    }
   ],
   "source": [
    "# Sanity Check\n",
    "ground_truth['test-environment-aeghhgwpe-pro02a'], len(ground_truth)"
   ]
  },
  {
   "cell_type": "code",
   "execution_count": 16,
   "id": "bc48891c-0128-4c84-b150-ab2801ea1ea7",
   "metadata": {},
   "outputs": [],
   "source": [
    "# Save relevance set to file\n",
    "with open(\"../dataset/rel_set.pkl\", \"wb\") as f:\n",
    "    pickle.dump(ground_truth, f)"
   ]
  }
 ],
 "metadata": {
  "kernelspec": {
   "display_name": "Python 3 (ipykernel)",
   "language": "python",
   "name": "python3"
  },
  "language_info": {
   "codemirror_mode": {
    "name": "ipython",
    "version": 3
   },
   "file_extension": ".py",
   "mimetype": "text/x-python",
   "name": "python",
   "nbconvert_exporter": "python",
   "pygments_lexer": "ipython3",
   "version": "3.11.5"
  }
 },
 "nbformat": 4,
 "nbformat_minor": 5
}
