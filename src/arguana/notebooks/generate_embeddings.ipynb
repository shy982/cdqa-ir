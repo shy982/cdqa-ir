{
 "cells": [
  {
   "cell_type": "code",
   "execution_count": 1,
   "id": "d5c84322-ebd8-4aab-9bf0-108ade3a023c",
   "metadata": {},
   "outputs": [],
   "source": [
    "# Imports\n",
    "from dotenv import load_dotenv\n",
    "from openai import OpenAI\n",
    "from sklearn.decomposition import TruncatedSVD\n",
    "from sklearn.feature_extraction.text import TfidfVectorizer\n",
    "from tqdm import tqdm\n",
    "\n",
    "import os\n",
    "import pickle"
   ]
  },
  {
   "cell_type": "code",
   "execution_count": 2,
   "id": "275541f5-56b4-491a-a383-7f3f1958f815",
   "metadata": {},
   "outputs": [],
   "source": [
    "# Load documents' texts\n",
    "with open(\"../dataset/documents.pkl\", \"rb\") as f:\n",
    "    docs = pickle.load(f)"
   ]
  },
  {
   "cell_type": "code",
   "execution_count": 3,
   "id": "62471e42-97ae-4b9f-8c8c-0c08233d53a9",
   "metadata": {},
   "outputs": [],
   "source": [
    "# Load queries' texts\n",
    "with open(\"../dataset/queries.pkl\", \"rb\") as f:\n",
    "    queries = pickle.load(f)"
   ]
  },
  {
   "cell_type": "markdown",
   "id": "14280f20-779d-41e3-8a9f-85c265206d08",
   "metadata": {},
   "source": [
    "### LSI"
   ]
  },
  {
   "cell_type": "code",
   "execution_count": 4,
   "id": "58abed54-ca3d-49ff-a526-9de394adfcc8",
   "metadata": {},
   "outputs": [],
   "source": [
    "# Extract document ids and clean_texts\n",
    "document_ids = list(docs.keys())\n",
    "clean_documents = [d[\"clean_text\"] for d in docs.values()]"
   ]
  },
  {
   "cell_type": "code",
   "execution_count": 5,
   "id": "7146c7ee-84d7-4d01-bb93-c41959424da3",
   "metadata": {},
   "outputs": [],
   "source": [
    "# Extract query ids and clean_texts\n",
    "query_ids = list(queries.keys())\n",
    "clean_queries = [q[\"clean_text\"] for q in queries.values()]"
   ]
  },
  {
   "cell_type": "markdown",
   "id": "bac21eae-304b-44bd-af36-d9638638ead2",
   "metadata": {},
   "source": [
    "#### Tf-idf"
   ]
  },
  {
   "cell_type": "code",
   "execution_count": 7,
   "id": "be2ffcb3-e427-402c-abe7-50f500618c96",
   "metadata": {},
   "outputs": [
    {
     "data": {
      "text/html": [
       "<style>#sk-container-id-1 {color: black;}#sk-container-id-1 pre{padding: 0;}#sk-container-id-1 div.sk-toggleable {background-color: white;}#sk-container-id-1 label.sk-toggleable__label {cursor: pointer;display: block;width: 100%;margin-bottom: 0;padding: 0.3em;box-sizing: border-box;text-align: center;}#sk-container-id-1 label.sk-toggleable__label-arrow:before {content: \"▸\";float: left;margin-right: 0.25em;color: #696969;}#sk-container-id-1 label.sk-toggleable__label-arrow:hover:before {color: black;}#sk-container-id-1 div.sk-estimator:hover label.sk-toggleable__label-arrow:before {color: black;}#sk-container-id-1 div.sk-toggleable__content {max-height: 0;max-width: 0;overflow: hidden;text-align: left;background-color: #f0f8ff;}#sk-container-id-1 div.sk-toggleable__content pre {margin: 0.2em;color: black;border-radius: 0.25em;background-color: #f0f8ff;}#sk-container-id-1 input.sk-toggleable__control:checked~div.sk-toggleable__content {max-height: 200px;max-width: 100%;overflow: auto;}#sk-container-id-1 input.sk-toggleable__control:checked~label.sk-toggleable__label-arrow:before {content: \"▾\";}#sk-container-id-1 div.sk-estimator input.sk-toggleable__control:checked~label.sk-toggleable__label {background-color: #d4ebff;}#sk-container-id-1 div.sk-label input.sk-toggleable__control:checked~label.sk-toggleable__label {background-color: #d4ebff;}#sk-container-id-1 input.sk-hidden--visually {border: 0;clip: rect(1px 1px 1px 1px);clip: rect(1px, 1px, 1px, 1px);height: 1px;margin: -1px;overflow: hidden;padding: 0;position: absolute;width: 1px;}#sk-container-id-1 div.sk-estimator {font-family: monospace;background-color: #f0f8ff;border: 1px dotted black;border-radius: 0.25em;box-sizing: border-box;margin-bottom: 0.5em;}#sk-container-id-1 div.sk-estimator:hover {background-color: #d4ebff;}#sk-container-id-1 div.sk-parallel-item::after {content: \"\";width: 100%;border-bottom: 1px solid gray;flex-grow: 1;}#sk-container-id-1 div.sk-label:hover label.sk-toggleable__label {background-color: #d4ebff;}#sk-container-id-1 div.sk-serial::before {content: \"\";position: absolute;border-left: 1px solid gray;box-sizing: border-box;top: 0;bottom: 0;left: 50%;z-index: 0;}#sk-container-id-1 div.sk-serial {display: flex;flex-direction: column;align-items: center;background-color: white;padding-right: 0.2em;padding-left: 0.2em;position: relative;}#sk-container-id-1 div.sk-item {position: relative;z-index: 1;}#sk-container-id-1 div.sk-parallel {display: flex;align-items: stretch;justify-content: center;background-color: white;position: relative;}#sk-container-id-1 div.sk-item::before, #sk-container-id-1 div.sk-parallel-item::before {content: \"\";position: absolute;border-left: 1px solid gray;box-sizing: border-box;top: 0;bottom: 0;left: 50%;z-index: -1;}#sk-container-id-1 div.sk-parallel-item {display: flex;flex-direction: column;z-index: 1;position: relative;background-color: white;}#sk-container-id-1 div.sk-parallel-item:first-child::after {align-self: flex-end;width: 50%;}#sk-container-id-1 div.sk-parallel-item:last-child::after {align-self: flex-start;width: 50%;}#sk-container-id-1 div.sk-parallel-item:only-child::after {width: 0;}#sk-container-id-1 div.sk-dashed-wrapped {border: 1px dashed gray;margin: 0 0.4em 0.5em 0.4em;box-sizing: border-box;padding-bottom: 0.4em;background-color: white;}#sk-container-id-1 div.sk-label label {font-family: monospace;font-weight: bold;display: inline-block;line-height: 1.2em;}#sk-container-id-1 div.sk-label-container {text-align: center;}#sk-container-id-1 div.sk-container {/* jupyter's `normalize.less` sets `[hidden] { display: none; }` but bootstrap.min.css set `[hidden] { display: none !important; }` so we also need the `!important` here to be able to override the default hidden behavior on the sphinx rendered scikit-learn.org. See: https://github.com/scikit-learn/scikit-learn/issues/21755 */display: inline-block !important;position: relative;}#sk-container-id-1 div.sk-text-repr-fallback {display: none;}</style><div id=\"sk-container-id-1\" class=\"sk-top-container\"><div class=\"sk-text-repr-fallback\"><pre>TfidfVectorizer()</pre><b>In a Jupyter environment, please rerun this cell to show the HTML representation or trust the notebook. <br />On GitHub, the HTML representation is unable to render, please try loading this page with nbviewer.org.</b></div><div class=\"sk-container\" hidden><div class=\"sk-item\"><div class=\"sk-estimator sk-toggleable\"><input class=\"sk-toggleable__control sk-hidden--visually\" id=\"sk-estimator-id-1\" type=\"checkbox\" checked><label for=\"sk-estimator-id-1\" class=\"sk-toggleable__label sk-toggleable__label-arrow\">TfidfVectorizer</label><div class=\"sk-toggleable__content\"><pre>TfidfVectorizer()</pre></div></div></div></div></div>"
      ],
      "text/plain": [
       "TfidfVectorizer()"
      ]
     },
     "execution_count": 7,
     "metadata": {},
     "output_type": "execute_result"
    }
   ],
   "source": [
    "vectorizer = TfidfVectorizer()\n",
    "vectorizer.fit(clean_documents + clean_queries)"
   ]
  },
  {
   "cell_type": "code",
   "execution_count": 8,
   "id": "44825793-1357-4dca-8af4-4ef1839b4cba",
   "metadata": {},
   "outputs": [],
   "source": [
    "# Get tfidf vector for each document\n",
    "documents_tfidf_vectors = vectorizer.transform(clean_documents)"
   ]
  },
  {
   "cell_type": "code",
   "execution_count": 9,
   "id": "d6eb88b2-4b38-47b8-87b2-4f46be9c31a2",
   "metadata": {},
   "outputs": [],
   "source": [
    "# Get tfidf vector for each query\n",
    "queries_tfidf_vectors = vectorizer.transform(clean_queries)"
   ]
  },
  {
   "cell_type": "markdown",
   "id": "0d85e7da-4caa-4e7e-91be-733b7d8c8288",
   "metadata": {},
   "source": [
    "#### SVD"
   ]
  },
  {
   "cell_type": "code",
   "execution_count": 11,
   "id": "46a0986e-a0c4-4015-a133-56cd6174781c",
   "metadata": {},
   "outputs": [],
   "source": [
    "num_topics = 100  # Number of dimensions\n",
    "svd = TruncatedSVD(n_components=num_topics)"
   ]
  },
  {
   "cell_type": "code",
   "execution_count": 12,
   "id": "40232886-1d61-4941-bd38-c0fcee81ed0d",
   "metadata": {},
   "outputs": [],
   "source": [
    "# Get embedding for each document\n",
    "documents_lsi_vectors = svd.fit_transform(documents_tfidf_vectors)"
   ]
  },
  {
   "cell_type": "code",
   "execution_count": null,
   "id": "3897c862-a3d1-46f2-b87d-aa04d68c9913",
   "metadata": {},
   "outputs": [],
   "source": [
    "# Save document embeddings\n",
    "documents_lsi = {id: {\"embedding\": vector} for id, vector in zip(\n",
    "    document_ids, documents_lsi_vectors)}\n",
    "with open(\"../embeddings/lsi/documents.pkl\", \"wb\") as f:\n",
    "    pickle.dump(documents_lsi, f)"
   ]
  },
  {
   "cell_type": "code",
   "execution_count": 13,
   "id": "94c387b9-2d1f-4e48-aece-1f15b5758229",
   "metadata": {},
   "outputs": [],
   "source": [
    "# Get embedding for each query\n",
    "queries_lsi_vectors = svd.fit_transform(queries_tfidf_vectors)"
   ]
  },
  {
   "cell_type": "code",
   "execution_count": null,
   "id": "e4321fc4-814d-4253-88b0-bcf2c4ce30fc",
   "metadata": {},
   "outputs": [],
   "source": [
    "# Save query embeddings\n",
    "queries_lsi = {id: {\"embedding\": vector} for id, vector in zip(\n",
    "    query_ids, queries_lsi_vectors)}\n",
    "with open(\"../embeddings/lsi/queries.pkl\", \"wb\") as f:\n",
    "    pickle.dump(queries_lsi, f)"
   ]
  },
  {
   "cell_type": "markdown",
   "id": "3d2f39c4-7dff-4d08-aa48-8dfcc9d5614d",
   "metadata": {},
   "source": [
    "### ADA (text-embedding-ada-002-v2)"
   ]
  },
  {
   "cell_type": "code",
   "execution_count": 19,
   "id": "44d242d9-ff0f-4b1d-8e02-2bbb831cdf5f",
   "metadata": {},
   "outputs": [],
   "source": [
    "# Load OpenAI's API key\n",
    "load_dotenv()\n",
    "OPENAI_API_KEY = os.getenv(\"OPENAI_API_KEY\")"
   ]
  },
  {
   "cell_type": "code",
   "execution_count": 20,
   "id": "d4efb486-d654-4700-b06e-c49af7fad807",
   "metadata": {},
   "outputs": [],
   "source": [
    "# Initialize OpenAI's client\n",
    "client = OpenAI(api_key=OPENAI_API_KEY)"
   ]
  },
  {
   "cell_type": "code",
   "execution_count": 21,
   "id": "15524b46-3b2c-4192-be56-845b30467fdd",
   "metadata": {},
   "outputs": [],
   "source": [
    "# Use OpenAI's text-embedding-ada-002 model to get a 1536-dimensional\n",
    "#  embedding for the given input text\n",
    "def get_embedding(text, model=\"text-embedding-ada-002\"):\n",
    "    text = text.replace(\"\\n\", \" \")\n",
    "    response = client.embeddings.create(input=[text], model=model)\n",
    "    if response and hasattr(response, \"data\") and response.data:\n",
    "        embedding = response.data[0].embedding\n",
    "        return embedding\n",
    "    else:\n",
    "        print(\"Invalid response or no embedding data received.\")\n",
    "        return None"
   ]
  },
  {
   "cell_type": "code",
   "execution_count": null,
   "id": "fb15575f-955c-4b25-a275-fc6f67fc3d4f",
   "metadata": {},
   "outputs": [],
   "source": [
    "#### API CALL WARNING ####\n",
    "\n",
    "# Get embedding for each document\n",
    "documents_ada = {}\n",
    "for i, doc in tqdm(docs.items(), desc=\"Generating Document Embeddings\"):\n",
    "    documents_ada[i] = {\"embedding\": get_embedding(doc[\"text\"])}"
   ]
  },
  {
   "cell_type": "code",
   "execution_count": null,
   "id": "fe8600c1-7c2c-4484-b00a-b8cf3346b2ef",
   "metadata": {},
   "outputs": [],
   "source": [
    "# Save document embeddings\n",
    "with open(\"../embeddings/text-embedding-ada-002-v2/documents.pkl\", \"wb\") as f:\n",
    "    pickle.dump(documents_ada, f)"
   ]
  },
  {
   "cell_type": "code",
   "execution_count": 24,
   "id": "4f1b04bf-3421-4ec5-931e-5278738f57a4",
   "metadata": {},
   "outputs": [
    {
     "name": "stderr",
     "output_type": "stream",
     "text": [
      "Generating Query Embeddings: 100%|█████████████████████████| 112/112 [00:23<00:00,  4.85it/s]\n"
     ]
    }
   ],
   "source": [
    "#### API CALL WARNING ####\n",
    "\n",
    "# Get embedding for each query\n",
    "queries_ada = {}\n",
    "for i, query in tqdm(queries.items(), desc=\"Generating Query Embeddings\"):\n",
    "    queries_ada[i] = {\"embedding\": get_embedding(query[\"text\"])}"
   ]
  },
  {
   "cell_type": "code",
   "execution_count": 25,
   "id": "04815f25-29b0-4f7b-b056-e8f54ae3a926",
   "metadata": {},
   "outputs": [],
   "source": [
    "# Save query embeddings\n",
    "with open(\"../embeddings/text-embedding-ada-002-v2/queries.pkl\", \"wb\") as f:\n",
    "    pickle.dump(queries_ada, f)"
   ]
  }
 ],
 "metadata": {
  "kernelspec": {
   "display_name": "Python 3 (ipykernel)",
   "language": "python",
   "name": "python3"
  },
  "language_info": {
   "codemirror_mode": {
    "name": "ipython",
    "version": 3
   },
   "file_extension": ".py",
   "mimetype": "text/x-python",
   "name": "python",
   "nbconvert_exporter": "python",
   "pygments_lexer": "ipython3",
   "version": "3.11.5"
  }
 },
 "nbformat": 4,
 "nbformat_minor": 5
}
