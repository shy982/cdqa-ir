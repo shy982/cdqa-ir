{
 "cells": [
  {
   "cell_type": "code",
   "execution_count": 1,
   "id": "aa35755e-5f54-4cf2-ab6a-a65743ff3b13",
   "metadata": {},
   "outputs": [],
   "source": [
    "import ir_datasets\n",
    "import pickle\n",
    "import string\n",
    "\n",
    "from nltk.corpus import stopwords \n",
    "from nltk.stem import WordNetLemmatizer\n",
    "from nltk.tokenize import word_tokenize"
   ]
  },
  {
   "cell_type": "code",
   "execution_count": 2,
   "id": "54b4ed5d-6fb3-4b30-98b8-64b183ad0419",
   "metadata": {},
   "outputs": [],
   "source": [
    "# Load the NFCorpus dataset\n",
    "dataset = ir_datasets.load(\"beir/nfcorpus/test\")"
   ]
  },
  {
   "cell_type": "code",
   "execution_count": 3,
   "id": "f2697573-648c-42df-b791-48d983608345",
   "metadata": {},
   "outputs": [],
   "source": [
    "# Common setup for data pre-processing\n",
    "lemmatizer = WordNetLemmatizer()\n",
    "stop_words = set(stopwords.words(\"english\"))"
   ]
  },
  {
   "cell_type": "code",
   "execution_count": 4,
   "id": "1ac04c98-06cf-46df-a0cd-0e7520359e9b",
   "metadata": {},
   "outputs": [],
   "source": [
    "# Data pre-processing (Used only for LSI)\n",
    "def clean_text(sentence):\n",
    "    # Remove punctuations\n",
    "    lookup_table = sentence.maketrans(\"\", \"\", string.punctuation)\n",
    "    clean_text = sentence.translate(lookup_table)\n",
    "\n",
    "    # Convert to lowercase and tokenize into words\n",
    "    word_list = word_tokenize(clean_text.lower())\n",
    "\n",
    "    # Remove stop-words and words with length less than or equal to 2\n",
    "    word_list = [w for w in word_list if not w in stop_words and len(w) > 2]\n",
    "\n",
    "    # Reduce each word to its lemma\n",
    "    word_list = [lemmatizer.lemmatize(word) for word in word_list]\n",
    "\n",
    "    # Convert back to sentence\n",
    "    clean_sentence = \" \".join(word_list)\n",
    "    \n",
    "    return clean_sentence"
   ]
  },
  {
   "cell_type": "markdown",
   "id": "6c6fd2d7-0e80-4be8-a2bc-f6f2acc8b5c0",
   "metadata": {},
   "source": [
    "### Documents"
   ]
  },
  {
   "cell_type": "code",
   "execution_count": 5,
   "id": "d540995d-14e8-46e3-9382-e137d5598521",
   "metadata": {},
   "outputs": [],
   "source": [
    "docs = {}"
   ]
  },
  {
   "cell_type": "code",
   "execution_count": 12,
   "id": "efaadbd4-45f8-442a-b4f7-d0f8a55c6fcc",
   "metadata": {},
   "outputs": [],
   "source": [
    "for doc in dataset.docs_iter():\n",
    "    docs[doc.doc_id] = {\"text\": doc.text, \"clean_text\":clean_text(doc.text)}"
   ]
  },
  {
   "cell_type": "code",
   "execution_count": 13,
   "id": "36e16738-6cb9-4aa3-9f23-97baca08b1f0",
   "metadata": {},
   "outputs": [
    {
     "data": {
      "text/plain": [
       "'Recent studies have suggested that statins, an established drug group in the prevention of cardiovascular mortality, could delay or prevent breast cancer recurrence but the effect on disease-specific mortality remains unclear. We evaluated risk of breast cancer death among statin users in a population-based cohort of breast cancer patients. The study cohort included all newly diagnosed breast cancer patients in Finland during 1995–2003 (31,236 cases), identified from the Finnish Cancer Registry. Information on statin use before and after the diagnosis was obtained from a national prescription database. We used the Cox proportional hazards regression method to estimate mortality among statin users with statin use as time-dependent variable. A total of 4,151 participants had used statins. During the median follow-up of 3.25 years after the diagnosis (range 0.08–9.0 years) 6,011 participants died, of which 3,619 (60.2%) was due to breast cancer. After adjustment for age, tumor characteristics, and treatment selection, both post-diagnostic and pre-diagnostic statin use were associated with lowered risk of breast cancer death (HR 0.46, 95% CI 0.38–0.55 and HR 0.54, 95% CI 0.44–0.67, respectively). The risk decrease by post-diagnostic statin use was likely affected by healthy adherer bias; that is, the greater likelihood of dying cancer patients to discontinue statin use as the association was not clearly dose-dependent and observed already at low-dose/short-term use. The dose- and time-dependence of the survival benefit among pre-diagnostic statin users suggests a possible causal effect that should be evaluated further in a clinical trial testing statins’ effect on survival in breast cancer patients.'"
      ]
     },
     "execution_count": 13,
     "metadata": {},
     "output_type": "execute_result"
    }
   ],
   "source": [
    "# Sanity check\n",
    "docs['MED-10']['text']"
   ]
  },
  {
   "cell_type": "code",
   "execution_count": 14,
   "id": "f32072cc-3694-45b0-94f6-ada578f17ef4",
   "metadata": {},
   "outputs": [
    {
     "data": {
      "text/plain": [
       "3633"
      ]
     },
     "execution_count": 14,
     "metadata": {},
     "output_type": "execute_result"
    }
   ],
   "source": [
    "# Sanity check\n",
    "len(docs)"
   ]
  },
  {
   "cell_type": "code",
   "execution_count": 15,
   "id": "158f1fea-3575-47ed-9809-5b4ccf911ec4",
   "metadata": {},
   "outputs": [],
   "source": [
    "# Save documents to file\n",
    "with open(\"../dataset/documents.pkl\", \"wb\") as f:\n",
    "    pickle.dump(docs, f)"
   ]
  },
  {
   "cell_type": "markdown",
   "id": "e175978d-2f44-4d1f-9e17-84acc9c4d0d5",
   "metadata": {},
   "source": [
    "### Queries"
   ]
  },
  {
   "cell_type": "code",
   "execution_count": 16,
   "id": "3c687938-c084-4ecc-b871-1b9ebffc4926",
   "metadata": {},
   "outputs": [],
   "source": [
    "queries = {}"
   ]
  },
  {
   "cell_type": "code",
   "execution_count": 17,
   "id": "8073017f-e880-435a-81e2-0416ab12ad37",
   "metadata": {},
   "outputs": [],
   "source": [
    "for query in dataset.queries_iter():\n",
    "    queries[query.query_id] = {\"text\":query.text, \"clean_text\":clean_text(query.text)}"
   ]
  },
  {
   "cell_type": "code",
   "execution_count": 19,
   "id": "8068070f-59e6-4d02-8e18-1416358f62e6",
   "metadata": {},
   "outputs": [
    {
     "data": {
      "text/plain": [
       "'Do Cholesterol Statin Drugs Cause Breast Cancer?'"
      ]
     },
     "execution_count": 19,
     "metadata": {},
     "output_type": "execute_result"
    }
   ],
   "source": [
    "# Sanity Check\n",
    "queries['PLAIN-2']['text']"
   ]
  },
  {
   "cell_type": "code",
   "execution_count": 21,
   "id": "00f136b9-e8a3-4b73-a9db-380178364019",
   "metadata": {},
   "outputs": [
    {
     "data": {
      "text/plain": [
       "323"
      ]
     },
     "execution_count": 21,
     "metadata": {},
     "output_type": "execute_result"
    }
   ],
   "source": [
    "# Sanity Check\n",
    "len(queries)"
   ]
  },
  {
   "cell_type": "code",
   "execution_count": 22,
   "id": "9d34bafe-a5f6-4068-a08a-21e0697563c1",
   "metadata": {},
   "outputs": [],
   "source": [
    "# Save queries to file\n",
    "with open(\"../dataset/queries.pkl\", \"wb\") as f:\n",
    "    pickle.dump(queries, f)"
   ]
  },
  {
   "cell_type": "markdown",
   "id": "de387b9a-e1c5-4fc2-ade5-ee53529d406b",
   "metadata": {},
   "source": [
    "### Relevance Set (Ground Truth)"
   ]
  },
  {
   "cell_type": "code",
   "execution_count": 23,
   "id": "43409c28-20d9-4e5a-9cc8-51a7f5fd88f9",
   "metadata": {},
   "outputs": [],
   "source": [
    "ground_truth = {}"
   ]
  },
  {
   "cell_type": "code",
   "execution_count": 24,
   "id": "cf7d587e-837e-4ff4-a4fc-f842a7e2ada3",
   "metadata": {},
   "outputs": [],
   "source": [
    "for qrel in dataset.qrels_iter():\n",
    "    if qrel.query_id not in ground_truth:\n",
    "        ground_truth[qrel.query_id] = []\n",
    "    if qrel.relevance > 0: \n",
    "        ground_truth[qrel.query_id].append(qrel.doc_id)"
   ]
  },
  {
   "cell_type": "code",
   "execution_count": 25,
   "id": "37cc8c59-95d6-413d-a415-dc0c954554b5",
   "metadata": {},
   "outputs": [
    {
     "data": {
      "text/plain": [
       "(['MED-2427',\n",
       "  'MED-10',\n",
       "  'MED-2429',\n",
       "  'MED-2430',\n",
       "  'MED-2431',\n",
       "  'MED-14',\n",
       "  'MED-2432',\n",
       "  'MED-2428',\n",
       "  'MED-2440',\n",
       "  'MED-2434',\n",
       "  'MED-2435',\n",
       "  'MED-2436',\n",
       "  'MED-2437',\n",
       "  'MED-2438',\n",
       "  'MED-2439',\n",
       "  'MED-3597',\n",
       "  'MED-3598',\n",
       "  'MED-3599',\n",
       "  'MED-4556',\n",
       "  'MED-4559',\n",
       "  'MED-4560',\n",
       "  'MED-4828',\n",
       "  'MED-4829',\n",
       "  'MED-4830'],\n",
       " 323)"
      ]
     },
     "execution_count": 25,
     "metadata": {},
     "output_type": "execute_result"
    }
   ],
   "source": [
    "# Sanity Check\n",
    "ground_truth['PLAIN-2'], len(ground_truth)"
   ]
  },
  {
   "cell_type": "code",
   "execution_count": 26,
   "id": "47e15883-0589-4572-8b74-819056caa57d",
   "metadata": {},
   "outputs": [],
   "source": [
    "# Save relevance set to file\n",
    "with open(\"../dataset/rel_set.pkl\", \"wb\") as f:\n",
    "    pickle.dump(ground_truth, f)"
   ]
  },
  {
   "cell_type": "code",
   "execution_count": null,
   "id": "3fbaa757-607a-49b2-bc01-80fe7c222114",
   "metadata": {},
   "outputs": [],
   "source": []
  }
 ],
 "metadata": {
  "kernelspec": {
   "display_name": "Python 3 (ipykernel)",
   "language": "python",
   "name": "python3"
  },
  "language_info": {
   "codemirror_mode": {
    "name": "ipython",
    "version": 3
   },
   "file_extension": ".py",
   "mimetype": "text/x-python",
   "name": "python",
   "nbconvert_exporter": "python",
   "pygments_lexer": "ipython3",
   "version": "3.11.5"
  }
 },
 "nbformat": 4,
 "nbformat_minor": 5
}
